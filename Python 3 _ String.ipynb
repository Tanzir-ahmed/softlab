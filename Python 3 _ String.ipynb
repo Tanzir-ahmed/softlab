{
 "cells": [
  {
   "cell_type": "markdown",
   "metadata": {},
   "source": [
    "### ARCH 942  |  Algorithmic Thinking in Design \n",
    "\n",
    "Session 2020 | Credit: 1.5 | Optional Sessional Course\n",
    "\n",
    "Department of Architectrue | BUET"
   ]
  },
  {
   "cell_type": "markdown",
   "metadata": {},
   "source": [
    "# String (str)"
   ]
  },
  {
   "cell_type": "markdown",
   "metadata": {},
   "source": [
    "#### String Cheat sheet\n",
    "s = ' ' ............ Empty string\n",
    " \n",
    "s = \"it's\"  ............ Double quote\n",
    "\n",
    "s = '''Python'''  ............ Triple quote\n",
    "\n",
    "s = 'One\\tTwo\\nThree\\tFour'  ............ Escape Sequence\n",
    "\n",
    "s = r'\\programming\\python'  ............ Raw string\n",
    "\n",
    "s1 + s2  ............ String Concatenation\n",
    "\n",
    "f'.....{x}..{y}....' ............ String Format \n",
    "\n",
    "s * 3   ............ String Repetation\n",
    "\n",
    "s[i]  ............ Index\n",
    "\n",
    "s[i:j] ............ Slice\n",
    "\n",
    "len(s)   ............ Length\n",
    "\n",
    "s.find('pa')  ............ Search\n",
    "\n",
    "s.rstrip()  ............ Trim white space\n",
    "\n",
    "s.replace('pa', 'ca')  ............ Repalce with a new string\n",
    "\n",
    "s.split(',')  ............ Split Sting and return a list\n",
    "\n",
    "s.isdigit()  ............ check number and return boolean \n",
    "\n",
    "s.lower()  ............ Convert string to lowercase\n",
    " \n",
    "s.endswith('.com')  ............ Find string with substring\n",
    "\n",
    "'python'.join(strlist)  ............ Join a list of string\n",
    "\n",
    "for i in 'Python':     print(i)   ............ Iteration\n",
    "\n",
    "'P' in 'Python'  ............ Membership\n",
    "\n",
    "map(ord, s) "
   ]
  },
  {
   "cell_type": "markdown",
   "metadata": {},
   "source": [
    "### [1] STRING _ BASIC\n",
    "A string is a sequence of characters and it is immutable. "
   ]
  },
  {
   "cell_type": "markdown",
   "metadata": {},
   "source": [
    "### 1.1 _ type(str)\n",
    "_ Check data type"
   ]
  },
  {
   "cell_type": "code",
   "execution_count": 1,
   "metadata": {},
   "outputs": [
    {
     "name": "stdout",
     "output_type": "stream",
     "text": [
      "Python\n",
      "<class 'str'>\n",
      "\n",
      "123\n",
      "<class 'str'>\n",
      "\n",
      "COVID-19\n",
      "<class 'str'>\n",
      "\n",
      "vefh   hiu@#$%\n",
      "<class 'str'>\n"
     ]
    }
   ],
   "source": [
    "a = 'Python'\n",
    "b = '123'\n",
    "c = 'COVID-19'\n",
    "d = 'vefh   hiu@#$%'\n",
    "\n",
    "print (a)\n",
    "print(type(a))\n",
    "\n",
    "print ()\n",
    "print (b)\n",
    "print(type(b))\n",
    "\n",
    "print ()\n",
    "print (c)\n",
    "print(type(c))\n",
    "\n",
    "print ()\n",
    "print (d)\n",
    "print(type(d))"
   ]
  },
  {
   "cell_type": "markdown",
   "metadata": {},
   "source": [
    "### 1.2 _ len(str)\n",
    "_ Find the length of a String\n",
    "\n",
    "_ How many characters are in a String including space and symbol, it will return an integer number"
   ]
  },
  {
   "cell_type": "code",
   "execution_count": 2,
   "metadata": {},
   "outputs": [
    {
     "name": "stdout",
     "output_type": "stream",
     "text": [
      "6\n",
      "3\n",
      "66\n",
      "\n",
      "There are 6 characters in the String, \"a\"\n",
      "There are 3 characters in the String, \"b\"\n",
      "There are 66 characters in the String, \"c\"\n"
     ]
    }
   ],
   "source": [
    "a = 'Python'\n",
    "b = '123'\n",
    "c = 'Python is the best programming language for Machine Learning (ML).'\n",
    "\n",
    "print(len(a))\n",
    "print(len(b))\n",
    "print(len(c))\n",
    "\n",
    "print()\n",
    "\n",
    "print('There are', len(a), 'characters in the String, \"a\"')\n",
    "print('There are', len(b), 'characters in the String, \"b\"')\n",
    "print('There are', len(c), 'characters in the String, \"c\"')"
   ]
  },
  {
   "cell_type": "markdown",
   "metadata": {},
   "source": [
    "### 1.3 _ ' in ' function\n",
    "_ Membership\n",
    "\n",
    "_ Check the subset of string in a String, it will return a boolean value (True / False)"
   ]
  },
  {
   "cell_type": "code",
   "execution_count": 3,
   "metadata": {},
   "outputs": [
    {
     "name": "stdout",
     "output_type": "stream",
     "text": [
      "1.  True\n",
      "2.  False\n",
      "3.  True\n",
      "4.  False\n",
      "5.  True\n"
     ]
    }
   ],
   "source": [
    "a = 'Python'\n",
    "b = '123'\n",
    "c = 'Python is the best programming language for Machine Learning (ML).'\n",
    "\n",
    "print ('1. ', 'P' in a)\n",
    "print ('2. ', '4' in b)\n",
    "print ('3. ','ML' in c)\n",
    "print ('4. ', 'python' in c)\n",
    "print ('5. ','best programming language' in c)"
   ]
  },
  {
   "cell_type": "markdown",
   "metadata": {},
   "source": [
    "### 1.4 _ Quotation mark    '  \"   '''     \n",
    "_ Define a String with a quotation mark\n",
    "\n",
    "_ Use of single quote [or] double quote, but never mix it."
   ]
  },
  {
   "cell_type": "code",
   "execution_count": 4,
   "metadata": {},
   "outputs": [
    {
     "name": "stdout",
     "output_type": "stream",
     "text": [
      "Hello World\n",
      "Hello World\n",
      "Hello World\n"
     ]
    }
   ],
   "source": [
    "# Single Quote\n",
    "a = 'Hello World'\n",
    "\n",
    "# Double Quote\n",
    "b = \"Hello World\"\n",
    "\n",
    "# Triple Quote, Triple quote is typically use in doc string.\n",
    "c = '''Hello World'''\n",
    "\n",
    "print (a)\n",
    "print (b)\n",
    "print (c)"
   ]
  },
  {
   "cell_type": "code",
   "execution_count": 5,
   "metadata": {},
   "outputs": [
    {
     "name": "stdout",
     "output_type": "stream",
     "text": [
      "Let's go!\n",
      "And I said, \"Hello there\" to him.\n"
     ]
    }
   ],
   "source": [
    "# String with double quotation mark\n",
    "print ( \"Let's go!\" ) \n",
    "\n",
    "# String with single quotation mark\n",
    "quote = 'And I said, \"Hello there\" to him.'\n",
    "print (quote)"
   ]
  },
  {
   "cell_type": "markdown",
   "metadata": {},
   "source": [
    "### 1.5 _ Escape Sequence    \\   "
   ]
  },
  {
   "cell_type": "markdown",
   "metadata": {},
   "source": [
    "#### Escape    ....     Meaning \n",
    "\n",
    "\\\\\\   Backslash (stores one \\) \n",
    "\n",
    "\\\\'   Single quote (stores ') \n",
    "\n",
    "\\\\\"   Double quote (stores \") \n",
    "\n",
    "\\b   Backspace \n",
    "\n",
    "\\f   Formfeed \n",
    "\n",
    "\\n   Newline (linefeed) \n",
    "\n",
    "\\r   Carriage return \n",
    "\n",
    "\\t   Horizontal tab \n",
    "\n",
    "\\v   Vertical tab"
   ]
  },
  {
   "cell_type": "code",
   "execution_count": 6,
   "metadata": {},
   "outputs": [
    {
     "name": "stdout",
     "output_type": "stream",
     "text": [
      "a\\tb\\nc\\td\n",
      "\n",
      "a\tb\n",
      "c\td\n"
     ]
    }
   ],
   "source": [
    "# tab(\\t) and new line(\\n)\n",
    "\n",
    "ss  = r'a\\tb\\nc\\td'\n",
    "\n",
    "s  = 'a\\tb\\nc\\td' \n",
    "\n",
    "print (ss)\n",
    "print ()\n",
    "print (s)"
   ]
  },
  {
   "cell_type": "code",
   "execution_count": 7,
   "metadata": {
    "scrolled": true
   },
   "outputs": [
    {
     "name": "stdout",
     "output_type": "stream",
     "text": [
      "One\t1\n",
      "Two\t2\n"
     ]
    }
   ],
   "source": [
    "# tab(\\t) and new line(\\n)\n",
    "\n",
    "print ( 'One\\t1\\nTwo\\t2' ) "
   ]
  },
  {
   "cell_type": "code",
   "execution_count": 8,
   "metadata": {},
   "outputs": [
    {
     "name": "stdout",
     "output_type": "stream",
     "text": [
      "Morning\t\tam\n",
      "Afternoon\tpm\n"
     ]
    }
   ],
   "source": [
    "s = 'Morning\\t\\tam\\nAfternoon\\tpm'\n",
    "print (s)"
   ]
  },
  {
   "cell_type": "code",
   "execution_count": 9,
   "metadata": {},
   "outputs": [
    {
     "name": "stdout",
     "output_type": "stream",
     "text": [
      "What's your name?\n",
      "What's your name?\n"
     ]
    }
   ],
   "source": [
    "print ( \"What's your name?\" ) \n",
    "\n",
    "# Backslash (\\) in Single quote\n",
    "print ('What\\'s your name?') "
   ]
  },
  {
   "cell_type": "markdown",
   "metadata": {},
   "source": [
    "### 1.6 _ Multiline    '''    \\n   "
   ]
  },
  {
   "cell_type": "code",
   "execution_count": 10,
   "metadata": {},
   "outputs": [
    {
     "name": "stdout",
     "output_type": "stream",
     "text": [
      "Always look\n",
      "on the bright\n",
      "side of life.\n"
     ]
    }
   ],
   "source": [
    "# Escape Sequences \n",
    "\n",
    "life  = 'Always look\\non the bright\\nside of life.'\n",
    "\n",
    "print (life)"
   ]
  },
  {
   "cell_type": "code",
   "execution_count": 11,
   "metadata": {},
   "outputs": [
    {
     "name": "stdout",
     "output_type": "stream",
     "text": [
      "This is a really really really long line that needs to be continued to the next line.\n"
     ]
    }
   ],
   "source": [
    "aQuote = \"This is a really really really long line that\" \\\n",
    "\" needs to be continued to the next line.\"\n",
    "\n",
    "print (aQuote)"
   ]
  },
  {
   "cell_type": "code",
   "execution_count": 12,
   "metadata": {},
   "outputs": [
    {
     "name": "stdout",
     "output_type": "stream",
     "text": [
      "This is a really really really long line that\n",
      "needs to be continued to the next line.\n"
     ]
    }
   ],
   "source": [
    "aQuote = \"This is a really really really long line that\\n\" \\\n",
    "\"needs to be continued to the next line.\"\n",
    "\n",
    "print (aQuote)"
   ]
  },
  {
   "cell_type": "code",
   "execution_count": 13,
   "metadata": {},
   "outputs": [
    {
     "name": "stdout",
     "output_type": "stream",
     "text": [
      "Always look\n",
      "on the bright \n",
      "side of life.\n"
     ]
    }
   ],
   "source": [
    "# Triple Quote\n",
    "\n",
    "life  = \"\"\"Always look\n",
    "on the bright \n",
    "side of life.\"\"\"\n",
    "\n",
    "\n",
    "print (life)"
   ]
  },
  {
   "cell_type": "code",
   "execution_count": 14,
   "metadata": {},
   "outputs": [
    {
     "name": "stdout",
     "output_type": "stream",
     "text": [
      "\n",
      "Help – use this command for getting help. \n",
      "Our interpreter understands the following commands: \n",
      "Print \n",
      "Quit \n",
      "Store \n"
     ]
    }
   ],
   "source": [
    "text = '''\n",
    "Help – use this command for getting help. \n",
    "Our interpreter understands the following commands: \n",
    "Print \n",
    "Quit \n",
    "Store ''' \n",
    "\n",
    "print (text)"
   ]
  },
  {
   "cell_type": "markdown",
   "metadata": {},
   "source": [
    "### 1.7 _ Raw String   r' '\n",
    "r'string'"
   ]
  },
  {
   "cell_type": "code",
   "execution_count": 15,
   "metadata": {},
   "outputs": [
    {
     "name": "stdout",
     "output_type": "stream",
     "text": [
      "C:\\Programming Language\\myscript.py\n",
      "C:\\Programming Language\\myscript.py\n"
     ]
    }
   ],
   "source": [
    "path1 = 'C:\\Programming Language\\myscript.py' \n",
    "\n",
    "path2 = r'C:\\Programming Language\\myscript.py' \n",
    "\n",
    "print (path1)\n",
    "print (path2)"
   ]
  },
  {
   "cell_type": "markdown",
   "metadata": {},
   "source": [
    "### 1.8 _ String Concatenation    ,   +   \n",
    "Plus (+) is preferable for string concatenation"
   ]
  },
  {
   "cell_type": "code",
   "execution_count": 16,
   "metadata": {},
   "outputs": [
    {
     "name": "stdout",
     "output_type": "stream",
     "text": [
      "Programing Language\n"
     ]
    }
   ],
   "source": [
    "#    ,    automatically create space between \n",
    "\n",
    "a = 'Programing'\n",
    "b = 'Language'\n",
    "\n",
    "print (a,b)"
   ]
  },
  {
   "cell_type": "code",
   "execution_count": 17,
   "metadata": {},
   "outputs": [
    {
     "name": "stdout",
     "output_type": "stream",
     "text": [
      "ProgramingLanguage\n"
     ]
    }
   ],
   "source": [
    "#   +    No space between \n",
    "\n",
    "a = 'Programing'\n",
    "b = 'Language'\n",
    "\n",
    "print (a + b)"
   ]
  },
  {
   "cell_type": "code",
   "execution_count": 18,
   "metadata": {},
   "outputs": [
    {
     "name": "stdout",
     "output_type": "stream",
     "text": [
      "Programing Language\n"
     ]
    }
   ],
   "source": [
    "#   +    insert an empty space ' ' string\n",
    "\n",
    "a = 'Programing'\n",
    "b = 'Language'\n",
    "\n",
    "print (a + ' ' +b)"
   ]
  },
  {
   "cell_type": "code",
   "execution_count": 19,
   "metadata": {},
   "outputs": [
    {
     "name": "stdout",
     "output_type": "stream",
     "text": [
      "My name is Mizanur Rahman .\n",
      "My name isMizanur Rahman.\n",
      "My name is Mizanur Rahman.\n",
      "My name is Mizanur Rahman.\n"
     ]
    }
   ],
   "source": [
    "myName = 'Mizanur Rahman'\n",
    "\n",
    "# Getting problem with comma at the end.\n",
    "print ('My name is', myName, '.')\n",
    "\n",
    "# Getting problem with sapce in the middle.\n",
    "print ('My name is' + myName + '.')\n",
    "\n",
    "# The explicit way to do string concatenation.\n",
    "print ('My name is'+ ' ' + myName + '.')\n",
    "\n",
    "# Use space in string\n",
    "print ('My name is ' + myName + '.')"
   ]
  },
  {
   "cell_type": "code",
   "execution_count": 20,
   "metadata": {
    "scrolled": true
   },
   "outputs": [
    {
     "name": "stdout",
     "output_type": "stream",
     "text": [
      "I like Python programming language.\n",
      "I like Python programming language.\n",
      "I like Python programming language.\n"
     ]
    }
   ],
   "source": [
    "# String Variables \n",
    "\n",
    "name = 'Python'\n",
    "\n",
    "print ('I like', name , 'programming language.')\n",
    "print ('I like' + ' ' + name  + ' ' + 'programming language.')\n",
    "print ('I like ' + name  + ' programming language.')"
   ]
  },
  {
   "cell_type": "code",
   "execution_count": 21,
   "metadata": {},
   "outputs": [
    {
     "name": "stdout",
     "output_type": "stream",
     "text": [
      "50\n",
      "The area of a rectangle is 50 sft.\n"
     ]
    }
   ],
   "source": [
    "# String Variables\n",
    "a  = 5        \n",
    "b  = 10 \n",
    "area = a * b \n",
    "\n",
    "print (area)\n",
    "print ( 'The area of a rectangle is ' + str(area) + ' sft.' ) "
   ]
  },
  {
   "cell_type": "code",
   "execution_count": 22,
   "metadata": {},
   "outputs": [
    {
     "data": {
      "text/plain": [
       "11"
      ]
     },
     "execution_count": 22,
     "metadata": {},
     "output_type": "execute_result"
    }
   ],
   "source": [
    "x = 5\n",
    "y = 6\n",
    "x+y"
   ]
  },
  {
   "cell_type": "code",
   "execution_count": 23,
   "metadata": {},
   "outputs": [
    {
     "data": {
      "text/plain": [
       "'56'"
      ]
     },
     "execution_count": 23,
     "metadata": {},
     "output_type": "execute_result"
    }
   ],
   "source": [
    "x = '5'\n",
    "y = '6'\n",
    "x+y"
   ]
  },
  {
   "cell_type": "code",
   "execution_count": 24,
   "metadata": {},
   "outputs": [
    {
     "name": "stdout",
     "output_type": "stream",
     "text": [
      "COV-19\n"
     ]
    }
   ],
   "source": [
    "v = 'COV'\n",
    "_id = '19'\n",
    "print (v +'-' + _id)"
   ]
  },
  {
   "cell_type": "markdown",
   "metadata": {},
   "source": [
    "### 1.9 _ String  Format { } method \n",
    "f'string is avaible in python 3.8"
   ]
  },
  {
   "cell_type": "code",
   "execution_count": 25,
   "metadata": {},
   "outputs": [
    {
     "name": "stdout",
     "output_type": "stream",
     "text": [
      "The area of a rectangle is 50 sft.\n"
     ]
    }
   ],
   "source": [
    "a  = 5        \n",
    "b  = 10 \n",
    "area = a * b \n",
    "\n",
    "print ( f'The area of a rectangle is {area} sft.' ) "
   ]
  },
  {
   "cell_type": "code",
   "execution_count": 26,
   "metadata": {},
   "outputs": [
    {
     "name": "stdout",
     "output_type": "stream",
     "text": [
      "I like Java programming language.\n"
     ]
    }
   ],
   "source": [
    "name = 'Java'\n",
    "\n",
    "print (f'I like {name} programming language.')"
   ]
  },
  {
   "cell_type": "code",
   "execution_count": 27,
   "metadata": {},
   "outputs": [
    {
     "name": "stdout",
     "output_type": "stream",
     "text": [
      "My name is Mizanur Rahman.\n"
     ]
    }
   ],
   "source": [
    "myName = 'Mizanur Rahman'\n",
    "\n",
    "print (f'My name is {myName}.')"
   ]
  },
  {
   "cell_type": "markdown",
   "metadata": {},
   "source": [
    "### 1.10 _ String Repetation"
   ]
  },
  {
   "cell_type": "code",
   "execution_count": 28,
   "metadata": {},
   "outputs": [
    {
     "name": "stdout",
     "output_type": "stream",
     "text": [
      "AppleAppleApple\n"
     ]
    }
   ],
   "source": [
    "a  = 'Apple' \n",
    "print ( a * 3)"
   ]
  },
  {
   "cell_type": "code",
   "execution_count": 29,
   "metadata": {},
   "outputs": [
    {
     "name": "stdout",
     "output_type": "stream",
     "text": [
      "Apple Apple Apple \n"
     ]
    }
   ],
   "source": [
    "a  = 'Apple ' \n",
    "print ( a * 3)"
   ]
  },
  {
   "cell_type": "markdown",
   "metadata": {},
   "source": [
    "### 1.11 _ User Input ()"
   ]
  },
  {
   "cell_type": "code",
   "execution_count": 30,
   "metadata": {},
   "outputs": [
    {
     "name": "stdout",
     "output_type": "stream",
     "text": [
      "What is your name? Mizan\n",
      "\n",
      "Hi Mizan, Good Morning!\n",
      "Hi Mizan, Good Morning!\n"
     ]
    }
   ],
   "source": [
    "name = input ( \"What is your name? \" ) \n",
    "\n",
    "print ()\n",
    "\n",
    "print ('Hi ' + name +  ', Good Morning!')\n",
    "print (f'Hi {name}, Good Morning!')"
   ]
  },
  {
   "cell_type": "markdown",
   "metadata": {},
   "source": [
    "### [2] STRING _  INDEX / SLICE\n",
    "string [ i ]\n",
    "\n",
    "string [ start : end : step ]"
   ]
  },
  {
   "cell_type": "code",
   "execution_count": 31,
   "metadata": {
    "scrolled": true
   },
   "outputs": [
    {
     "data": {
      "text/plain": [
       "6"
      ]
     },
     "execution_count": 31,
     "metadata": {},
     "output_type": "execute_result"
    }
   ],
   "source": [
    "a = 'Python'\n",
    "\n",
    "len (a)"
   ]
  },
  {
   "cell_type": "code",
   "execution_count": 32,
   "metadata": {},
   "outputs": [
    {
     "data": {
      "text/plain": [
       "[0, 1, 2, 3, 4, 5, 6, 7, 8, 9]"
      ]
     },
     "execution_count": 32,
     "metadata": {},
     "output_type": "execute_result"
    }
   ],
   "source": [
    "list (range(10))"
   ]
  },
  {
   "cell_type": "code",
   "execution_count": 33,
   "metadata": {},
   "outputs": [
    {
     "name": "stdout",
     "output_type": "stream",
     "text": [
      "\n",
      " P   y   t   h   o   n\n",
      " 0   1   2   3   4   5\n",
      "-6  -5  -4  -3  -2  -1\n",
      "\n",
      "a is :  Python\n",
      "a[:] is :  Python\n",
      "a[::] is :  Python\n",
      "a[::-1] is :  nohtyP\n",
      "\n",
      "a[0] is :  P\n",
      "a[5] is :  n\n",
      "a[-1] is :  n\n",
      "a[-4] is :  t\n",
      "\n",
      "a[0:2] is :  Py\n",
      "a[:2] is :  Py\n",
      "a[2:4] is :  th\n",
      "a[2:] is :  thon\n",
      "\n",
      "a[-1:] is :  n\n",
      "a[4:] is :  on\n",
      "a[-2:] is :  on\n",
      "\n",
      "a[::2] is :  Pto\n",
      "a[::3] is :  Ph\n"
     ]
    }
   ],
   "source": [
    "a = 'Python'\n",
    "\n",
    "print()\n",
    "print (' P   y   t   h   o   n')\n",
    "print(' 0   1   2   3   4   5')\n",
    "print('-6  -5  -4  -3  -2  -1')\n",
    "print ()\n",
    "\n",
    "print ('a is : ', a)\n",
    "print ('a[:] is : ', a[:])\n",
    "print ('a[::] is : ', a[::])\n",
    "print ('a[::-1] is : ', a[::-1])\n",
    "print ()\n",
    "\n",
    "# Index\n",
    "print ('a[0] is : ', a[0])\n",
    "print ('a[5] is : ', a[5])\n",
    "print ('a[-1] is : ', a[-1])\n",
    "print ('a[-4] is : ', a[-4])\n",
    "print ()\n",
    "\n",
    "# Slice\n",
    "print ('a[0:2] is : ', a[0:2])\n",
    "print ('a[:2] is : ', a[:2]) \n",
    "print ('a[2:4] is : ', a[2:4]) \n",
    "print ('a[2:] is : ', a[2:]) \n",
    "print()\n",
    "print ('a[-1:] is : ', a[-1:]) \n",
    "print ('a[4:] is : ', a[4:] )\n",
    "print ('a[-2:] is : ', a[-2:] )\n",
    "print ()\n",
    "print ('a[::2] is : ', a[::2] )\n",
    "print ('a[::3] is : ', a[::3] )"
   ]
  },
  {
   "cell_type": "code",
   "execution_count": 34,
   "metadata": {},
   "outputs": [
    {
     "name": "stdout",
     "output_type": "stream",
     "text": [
      "32\n",
      "P y t h o n   i s    a     P  r  o  g  a  m  m  i  n  g      l  a  n  g  u  a  g  e  .\n",
      "0 1 2 3 4 5 6 7 8 9 10 11 12 13 14 15 16 17 18 19 20  21 22 23 24 25 26 27 28 29 30 31\n",
      "\n",
      "text[0:6] is :  Python\n",
      "text[12:22] is :  Progamming\n",
      "text[12:31] is :  Progamming language\n",
      "text[12:] is :  Progamming language.\n"
     ]
    }
   ],
   "source": [
    "text  = 'Python is a Progamming language.'\n",
    "\n",
    "print (len(text))\n",
    "print('P y t h o n   i s    a     P  r  o  g  a  m  m  i  n  g      l  a  n  g  u  a  g  e  .')\n",
    "print('0 1 2 3 4 5 6 7 8 9 10 11 12 13 14 15 16 17 18 19 20  21 22 23 24 25 26 27 28 29 30 31')\n",
    "\n",
    "print ()\n",
    "print ('text[0:6] is : ', text[0:6])\n",
    "print ('text[12:22] is : ', text[12:22])\n",
    "print ('text[12:31] is : ', text[12:31])\n",
    "print ('text[12:] is : ', text[12:])\n"
   ]
  },
  {
   "cell_type": "markdown",
   "metadata": {},
   "source": [
    "### [3] STRING METHODS\n",
    "A method is a function that is tightly coupled to some object, be it a list, a number, a string, or whatever. In general, a method is called like this: \n",
    "\n",
    "object.method(arguments) \n",
    "+ string.method()"
   ]
  },
  {
   "cell_type": "markdown",
   "metadata": {},
   "source": [
    "### dir(str)\n",
    "_ Get the String Directory\n",
    "\n",
    "_ Available Methods in Strings"
   ]
  },
  {
   "cell_type": "code",
   "execution_count": 35,
   "metadata": {},
   "outputs": [
    {
     "name": "stdout",
     "output_type": "stream",
     "text": [
      "__add__, __class__, __contains__, __delattr__, __dir__, __doc__, __eq__, __format__, __ge__, __getattribute__, __getitem__, __getnewargs__, __gt__, __hash__, __init__, __init_subclass__, __iter__, __le__, __len__, __lt__, __mod__, __mul__, __ne__, __new__, __reduce__, __reduce_ex__, __repr__, __rmod__, __rmul__, __setattr__, __sizeof__, __str__, __subclasshook__, capitalize, casefold, center, count, encode, endswith, expandtabs, find, format, format_map, index, isalnum, isalpha, isascii, isdecimal, isdigit, isidentifier, islower, isnumeric, isprintable, isspace, istitle, isupper, join, ljust, lower, lstrip, maketrans, partition, replace, rfind, rindex, rjust, rpartition, rsplit, rstrip, split, splitlines, startswith, strip, swapcase, title, translate, upper, zfill, "
     ]
    }
   ],
   "source": [
    "dir_str = dir(str)\n",
    "\n",
    "for i in dir_str:\n",
    "    print (i, end = ', ')"
   ]
  },
  {
   "cell_type": "markdown",
   "metadata": {},
   "source": [
    "### help(str.method)\n",
    "_ Find help of a String Method"
   ]
  },
  {
   "cell_type": "code",
   "execution_count": 36,
   "metadata": {},
   "outputs": [
    {
     "name": "stdout",
     "output_type": "stream",
     "text": [
      "Help on method_descriptor:\n",
      "\n",
      "capitalize(self, /)\n",
      "    Return a capitalized version of the string.\n",
      "    \n",
      "    More specifically, make the first character have upper case and the rest lower\n",
      "    case.\n",
      "\n"
     ]
    }
   ],
   "source": [
    "help(str.capitalize)"
   ]
  },
  {
   "cell_type": "markdown",
   "metadata": {},
   "source": [
    "### 3.1 _ String Method _ Change Case\n",
    "\n",
    "+ s.upper()\n",
    "+ s.lower()\n",
    "+ s.title()\n",
    "+ s.swapcase()"
   ]
  },
  {
   "cell_type": "markdown",
   "metadata": {},
   "source": [
    "### s.upper()"
   ]
  },
  {
   "cell_type": "code",
   "execution_count": 37,
   "metadata": {},
   "outputs": [
    {
     "name": "stdout",
     "output_type": "stream",
     "text": [
      "Help on method_descriptor:\n",
      "\n",
      "casefold(self, /)\n",
      "    Return a version of the string suitable for caseless comparisons.\n",
      "\n"
     ]
    }
   ],
   "source": [
    "help(str.casefold)"
   ]
  },
  {
   "cell_type": "code",
   "execution_count": 38,
   "metadata": {},
   "outputs": [
    {
     "name": "stdout",
     "output_type": "stream",
     "text": [
      "PYTHON\n",
      "PYTHON\n",
      "PYTHON\n"
     ]
    }
   ],
   "source": [
    "a = 'Python'\n",
    "b = 'python'\n",
    "c = 'PYthon'\n",
    "\n",
    "print (a.upper())\n",
    "print (b.upper())\n",
    "print (c.upper())"
   ]
  },
  {
   "cell_type": "markdown",
   "metadata": {},
   "source": [
    "### s.lower()"
   ]
  },
  {
   "cell_type": "code",
   "execution_count": 39,
   "metadata": {},
   "outputs": [
    {
     "name": "stdout",
     "output_type": "stream",
     "text": [
      "python\n",
      "python\n",
      "python\n"
     ]
    }
   ],
   "source": [
    "a = 'PYTHON'\n",
    "b = 'Python'\n",
    "c = 'PYthon'\n",
    "print (a.lower())\n",
    "print (b.lower())\n",
    "print (c.lower())"
   ]
  },
  {
   "cell_type": "markdown",
   "metadata": {},
   "source": [
    "### s.capitalize()"
   ]
  },
  {
   "cell_type": "code",
   "execution_count": 40,
   "metadata": {},
   "outputs": [
    {
     "name": "stdout",
     "output_type": "stream",
     "text": [
      "Python\n",
      "Progamming language\n",
      "I like python progamming language.\n"
     ]
    }
   ],
   "source": [
    "a = 'python'\n",
    "b = 'progamming language'\n",
    "c = 'i like python progamming language.'\n",
    "\n",
    "print (a.capitalize())\n",
    "print (b.capitalize())\n",
    "print (c.capitalize())"
   ]
  },
  {
   "cell_type": "markdown",
   "metadata": {},
   "source": [
    "### s.title()"
   ]
  },
  {
   "cell_type": "code",
   "execution_count": 41,
   "metadata": {},
   "outputs": [
    {
     "name": "stdout",
     "output_type": "stream",
     "text": [
      "I Like Python Progamming Language.\n",
      "Python Is Progamming Language.\n",
      "Progamming Language\n"
     ]
    }
   ],
   "source": [
    "a = 'i like python progamming language.'\n",
    "b = 'PYTHON IS PROGAMMING LANGUAGE.'\n",
    "c = 'progamming language'\n",
    "\n",
    "print (a.title())\n",
    "print (b.title())\n",
    "print (c.title())"
   ]
  },
  {
   "cell_type": "markdown",
   "metadata": {},
   "source": [
    "### s.swapcase()"
   ]
  },
  {
   "cell_type": "code",
   "execution_count": 42,
   "metadata": {
    "scrolled": true
   },
   "outputs": [
    {
     "name": "stdout",
     "output_type": "stream",
     "text": [
      "pYTHON\n",
      "python is progamming language.\n",
      "I LIKE pYTHON pROGAMMING language.\n"
     ]
    }
   ],
   "source": [
    "a = 'Python'\n",
    "b = 'PYTHON IS PROGAMMING LANGUAGE.'\n",
    "c = 'i like Python Progamming LANGUAGE.'\n",
    "\n",
    "print (a.swapcase())\n",
    "print (b.swapcase())\n",
    "print (c.swapcase())"
   ]
  },
  {
   "cell_type": "markdown",
   "metadata": {},
   "source": [
    "### s.casefold()"
   ]
  },
  {
   "cell_type": "code",
   "execution_count": 43,
   "metadata": {},
   "outputs": [
    {
     "name": "stdout",
     "output_type": "stream",
     "text": [
      "i like python progamming language.\n"
     ]
    }
   ],
   "source": [
    "c = 'i like PYTHON Progamming LANGUAGE.'\n",
    "print (c.casefold())"
   ]
  },
  {
   "cell_type": "markdown",
   "metadata": {},
   "source": [
    "### 3.2 _ String Method _ Position / number"
   ]
  },
  {
   "cell_type": "markdown",
   "metadata": {},
   "source": [
    "### s.count(sub)\n",
    "Return a total number of substring"
   ]
  },
  {
   "cell_type": "code",
   "execution_count": 44,
   "metadata": {},
   "outputs": [
    {
     "name": "stdout",
     "output_type": "stream",
     "text": [
      "Help on method_descriptor:\n",
      "\n",
      "count(...)\n",
      "    S.count(sub[, start[, end]]) -> int\n",
      "    \n",
      "    Return the number of non-overlapping occurrences of substring sub in\n",
      "    string S[start:end].  Optional arguments start and end are\n",
      "    interpreted as in slice notation.\n",
      "\n"
     ]
    }
   ],
   "source": [
    "help(str.count)"
   ]
  },
  {
   "cell_type": "code",
   "execution_count": 45,
   "metadata": {
    "scrolled": true
   },
   "outputs": [
    {
     "name": "stdout",
     "output_type": "stream",
     "text": [
      "Total number of 'p' is 2\n",
      "Total number of 'pp' is 1\n",
      "Total number of 'l' is 1\n"
     ]
    }
   ],
   "source": [
    "a = 'Apple'\n",
    "\n",
    "print (\"Total number of 'p' is\", a.count('p'))\n",
    "print (\"Total number of 'pp' is\", a.count('pp'))\n",
    "print (\"Total number of 'l' is\", a.count('l'))"
   ]
  },
  {
   "cell_type": "code",
   "execution_count": 46,
   "metadata": {},
   "outputs": [
    {
     "name": "stdout",
     "output_type": "stream",
     "text": [
      "Total number of 'a' is 3\n",
      "Total number of 'p' is 1\n",
      "Total number of 'Python' is 1\n"
     ]
    }
   ],
   "source": [
    "a = 'I like Python progamming language.'\n",
    "\n",
    "print (\"Total number of 'a' is\", a.count('a'))\n",
    "print (\"Total number of 'p' is\", a.count('p'))\n",
    "print (\"Total number of 'Python' is\", a.count('Python'))"
   ]
  },
  {
   "cell_type": "markdown",
   "metadata": {},
   "source": [
    "### s.startswith(sub)\n",
    "_ Return a boolean value"
   ]
  },
  {
   "cell_type": "code",
   "execution_count": 47,
   "metadata": {},
   "outputs": [
    {
     "name": "stdout",
     "output_type": "stream",
     "text": [
      "True\n",
      "True\n",
      "False\n",
      "False\n"
     ]
    }
   ],
   "source": [
    "a = 'Python is a programming language.'\n",
    "\n",
    "print (a.startswith('P'))\n",
    "print (a.startswith('Py'))\n",
    "print (a.startswith('py'))\n",
    "print (a.startswith('on'))"
   ]
  },
  {
   "cell_type": "markdown",
   "metadata": {},
   "source": [
    "### s.endswith(sub)\n",
    "_ Return a boolean value"
   ]
  },
  {
   "cell_type": "code",
   "execution_count": 48,
   "metadata": {},
   "outputs": [
    {
     "name": "stdout",
     "output_type": "stream",
     "text": [
      "Help on method_descriptor:\n",
      "\n",
      "endswith(...)\n",
      "    S.endswith(suffix[, start[, end]]) -> bool\n",
      "    \n",
      "    Return True if S ends with the specified suffix, False otherwise.\n",
      "    With optional start, test S beginning at that position.\n",
      "    With optional end, stop comparing S at that position.\n",
      "    suffix can also be a tuple of strings to try.\n",
      "\n"
     ]
    }
   ],
   "source": [
    "help(str.endswith)"
   ]
  },
  {
   "cell_type": "code",
   "execution_count": 49,
   "metadata": {},
   "outputs": [
    {
     "name": "stdout",
     "output_type": "stream",
     "text": [
      "True\n",
      "False\n"
     ]
    }
   ],
   "source": [
    "link ='https://www.python.org'\n",
    "\n",
    "print (link.endswith('.org'))\n",
    "print (link.endswith('.com'))"
   ]
  },
  {
   "cell_type": "code",
   "execution_count": 50,
   "metadata": {},
   "outputs": [
    {
     "name": "stdout",
     "output_type": "stream",
     "text": [
      "True\n",
      "True\n",
      "True\n",
      "False\n"
     ]
    }
   ],
   "source": [
    "text ='Python'\n",
    "\n",
    "print (text.endswith('n'))\n",
    "print (text.endswith('on'))\n",
    "print (text.endswith('thon'))\n",
    "print (text.endswith('p'))"
   ]
  },
  {
   "cell_type": "code",
   "execution_count": 51,
   "metadata": {},
   "outputs": [
    {
     "name": "stdout",
     "output_type": "stream",
     "text": [
      "True\n",
      "True\n",
      "False\n"
     ]
    }
   ],
   "source": [
    "file = 'Python basic string.py'\n",
    "\n",
    "print (file.endswith('py'))\n",
    "print (file.endswith('.py'))\n",
    "print (file.endswith('.doc'))"
   ]
  },
  {
   "cell_type": "code",
   "execution_count": 52,
   "metadata": {},
   "outputs": [
    {
     "name": "stdout",
     "output_type": "stream",
     "text": [
      "It is a valid file.\n",
      "This file contains python script.\n"
     ]
    }
   ],
   "source": [
    "file = 'Python basic string.py'\n",
    "\n",
    "if file.endswith('.py') == True:\n",
    "    print ('It is a valid file.\\nThis file contains python script.')\n",
    "else:\n",
    "    print('It is not a python script')"
   ]
  },
  {
   "cell_type": "code",
   "execution_count": 53,
   "metadata": {},
   "outputs": [],
   "source": [
    "import webbrowser as wb\n",
    "\n",
    "link ='https://www.python.org'\n",
    "\n",
    "if link.endswith('.org') == True:\n",
    "    wb.open(link)\n",
    "else:\n",
    "    print('This link is not valid')"
   ]
  },
  {
   "cell_type": "markdown",
   "metadata": {},
   "source": [
    "### s.index(sub, start, end)\n",
    "_ Return the 1st position index\n",
    "\n",
    "_ count from the begining and stops if found"
   ]
  },
  {
   "cell_type": "code",
   "execution_count": 54,
   "metadata": {},
   "outputs": [
    {
     "name": "stdout",
     "output_type": "stream",
     "text": [
      "Help on method_descriptor:\n",
      "\n",
      "index(...)\n",
      "    S.index(sub[, start[, end]]) -> int\n",
      "    \n",
      "    Return the lowest index in S where substring sub is found, \n",
      "    such that sub is contained within S[start:end].  Optional\n",
      "    arguments start and end are interpreted as in slice notation.\n",
      "    \n",
      "    Raises ValueError when the substring is not found.\n",
      "\n"
     ]
    }
   ],
   "source": [
    "help(str.index)"
   ]
  },
  {
   "cell_type": "code",
   "execution_count": 55,
   "metadata": {
    "scrolled": true
   },
   "outputs": [
    {
     "name": "stdout",
     "output_type": "stream",
     "text": [
      "5\n",
      "A p p l e\n",
      "0 1 2 3 4\n",
      "\n",
      "Index of 'A' is 0\n",
      "Index of 'p' is 1\n",
      "Index of 'pp' is 1\n",
      "Index of 'l' is 3\n"
     ]
    }
   ],
   "source": [
    "fruit = 'Apple'\n",
    "\n",
    "print (len(fruit))\n",
    "print ('A p p l e')\n",
    "print ('0 1 2 3 4')\n",
    "\n",
    "print ()\n",
    "print (\"Index of 'A' is\", fruit.find('A'))\n",
    "print (\"Index of 'p' is\", fruit.find('p'))\n",
    "print (\"Index of 'pp' is\", fruit.find('pp'))\n",
    "print (\"Index of 'l' is\", fruit.find('l'))"
   ]
  },
  {
   "cell_type": "code",
   "execution_count": 56,
   "metadata": {
    "scrolled": true
   },
   "outputs": [
    {
     "name": "stdout",
     "output_type": "stream",
     "text": [
      "32\n",
      "P y t h o n   i s    a     P  r  o  g  a  m  m  i  n  g      l  a  n  g  u  a  g  e  .\n",
      "0 1 2 3 4 5 6 7 8 9 10 11 12 13 14 15 16 17 18 19 20  21 22 23 24 25 26 27 28 29 30 31\n",
      "\n",
      "Index of 'is' is 7\n",
      "Index of 'p' is 0\n",
      "Index of 'n' is 5\n",
      "Index of 't' is 2\n"
     ]
    }
   ],
   "source": [
    "text  = 'Python is a Progamming language.'\n",
    "\n",
    "print (len(text))\n",
    "print('P y t h o n   i s    a     P  r  o  g  a  m  m  i  n  g      l  a  n  g  u  a  g  e  .')\n",
    "print('0 1 2 3 4 5 6 7 8 9 10 11 12 13 14 15 16 17 18 19 20  21 22 23 24 25 26 27 28 29 30 31')\n",
    "\n",
    "print ()\n",
    "print (\"Index of 'is' is\", text.index('is'))\n",
    "print (\"Index of 'p' is\", text.index('P'))\n",
    "print (\"Index of 'n' is\", text.index('n'))\n",
    "print (\"Index of 't' is\", text.index('t'))"
   ]
  },
  {
   "cell_type": "code",
   "execution_count": 57,
   "metadata": {
    "scrolled": true
   },
   "outputs": [
    {
     "name": "stdout",
     "output_type": "stream",
     "text": [
      "32\n",
      "P y t h o n   i s    a     P  r  o  g  a  m  m  i  n  g      l  a  n  g  u  a  g  e  .\n",
      "0 1 2 3 4 5 6 7 8 9 10 11 12 13 14 15 16 17 18 19 20  21 22 23 24 25 26 27 28 29 30 31\n",
      "\n",
      "Index of 'P' is 12\n",
      "Index of 'g' is 21\n"
     ]
    }
   ],
   "source": [
    "text = 'Python is a Progamming language.'\n",
    "\n",
    "print (len(text))\n",
    "print('P y t h o n   i s    a     P  r  o  g  a  m  m  i  n  g      l  a  n  g  u  a  g  e  .')\n",
    "print('0 1 2 3 4 5 6 7 8 9 10 11 12 13 14 15 16 17 18 19 20  21 22 23 24 25 26 27 28 29 30 31')\n",
    "\n",
    "print ()\n",
    "print (\"Index of 'P' is\", text.index('P',10))\n",
    "print (\"Index of 'g' is\", text.index('g',17, 25))"
   ]
  },
  {
   "cell_type": "markdown",
   "metadata": {},
   "source": [
    "### s.rindex(sub, start, end)\n",
    "_ Return the last position index\n",
    "\n",
    "_ count from the end and stops if found"
   ]
  },
  {
   "cell_type": "code",
   "execution_count": 58,
   "metadata": {},
   "outputs": [
    {
     "name": "stdout",
     "output_type": "stream",
     "text": [
      "32\n",
      "P y t h o n   i s    a     P  r  o  g  a  m  m  i  n  g      l  a  n  g  u  a  g  e  .\n",
      "0 1 2 3 4 5 6 7 8 9 10 11 12 13 14 15 16 17 18 19 20  21 22 23 24 25 26 27 28 29 30 31\n",
      "\n",
      "Index of 'a' is 28\n",
      "Index of 'p' is 12\n",
      "Index of 'n' is 25\n",
      "Index of 't' is 2\n"
     ]
    }
   ],
   "source": [
    "text = 'Python is a Progamming language.'\n",
    "\n",
    "print (len(text))\n",
    "print('P y t h o n   i s    a     P  r  o  g  a  m  m  i  n  g      l  a  n  g  u  a  g  e  .')\n",
    "print('0 1 2 3 4 5 6 7 8 9 10 11 12 13 14 15 16 17 18 19 20  21 22 23 24 25 26 27 28 29 30 31')\n",
    "\n",
    "print ()\n",
    "print (\"Index of 'a' is\", text.rindex('a'))\n",
    "print (\"Index of 'p' is\", text.rindex('P'))\n",
    "print (\"Index of 'n' is\", text.rindex('n'))\n",
    "print (\"Index of 't' is\", text.rindex('t'))"
   ]
  },
  {
   "cell_type": "markdown",
   "metadata": {},
   "source": [
    "### s.split(sub, maxsplit = -1)\n",
    "_ Split a string from left side and returns a list"
   ]
  },
  {
   "cell_type": "code",
   "execution_count": 59,
   "metadata": {},
   "outputs": [
    {
     "name": "stdout",
     "output_type": "stream",
     "text": [
      "['I', 'like', 'apple,', 'orange,', 'waterlemon', 'and', 'lemon.']\n",
      "['I like apple', ' orange', ' waterlemon and lemon.']\n",
      "['I like apple, orange, waterlemon ', ' lemon.']\n"
     ]
    }
   ],
   "source": [
    "a = 'I like apple, orange, waterlemon and lemon.'\n",
    "\n",
    "print (a.split(' '))\n",
    "print (a.split(','))\n",
    "print (a.split('and'))"
   ]
  },
  {
   "cell_type": "code",
   "execution_count": 60,
   "metadata": {},
   "outputs": [
    {
     "name": "stdout",
     "output_type": "stream",
     "text": [
      "['Python', 'is', 'a', 'Progamming', 'language.']\n",
      "['Python', 'is', 'a Progamming language.']\n",
      "['Python', 'is', 'a', 'Progamming language.']\n"
     ]
    }
   ],
   "source": [
    "a = 'Python is a Progamming language.'\n",
    "\n",
    "# Split the string with white space\n",
    "\n",
    "print (a.split(' '))\n",
    "print (a.split(' ', maxsplit = 2))\n",
    "print (a.split(' ', maxsplit = 3))"
   ]
  },
  {
   "cell_type": "markdown",
   "metadata": {},
   "source": [
    "### s.rsplit(sub, maxsplit = -1)\n",
    "_ Split a string from right side and returns a list"
   ]
  },
  {
   "cell_type": "code",
   "execution_count": 61,
   "metadata": {},
   "outputs": [
    {
     "name": "stdout",
     "output_type": "stream",
     "text": [
      "['Python', 'is', 'a', 'Progamming', 'language.']\n",
      "['Python is a', 'Progamming', 'language.']\n",
      "['Python is', 'a', 'Progamming', 'language.']\n"
     ]
    }
   ],
   "source": [
    "a = 'Python is a Progamming language.'\n",
    "\n",
    "# Split the string with white space\n",
    "\n",
    "print (a.rsplit(' '))\n",
    "print (a.rsplit(' ', maxsplit = 2))\n",
    "print (a.rsplit(' ', maxsplit = 3))"
   ]
  },
  {
   "cell_type": "markdown",
   "metadata": {},
   "source": [
    "### s.join(list)\n",
    "a = ', '\n",
    "\n",
    "_ join a list with a character"
   ]
  },
  {
   "cell_type": "code",
   "execution_count": 62,
   "metadata": {},
   "outputs": [
    {
     "name": "stdout",
     "output_type": "stream",
     "text": [
      "Help on method_descriptor:\n",
      "\n",
      "join(self, iterable, /)\n",
      "    Concatenate any number of strings.\n",
      "    \n",
      "    The string whose method is called is inserted in between each given string.\n",
      "    The result is returned as a new string.\n",
      "    \n",
      "    Example: '.'.join(['ab', 'pq', 'rs']) -> 'ab.pq.rs'\n",
      "\n"
     ]
    }
   ],
   "source": [
    "help(str.join)"
   ]
  },
  {
   "cell_type": "code",
   "execution_count": 63,
   "metadata": {},
   "outputs": [
    {
     "name": "stdout",
     "output_type": "stream",
     "text": [
      "apple + orange + lemon\n"
     ]
    }
   ],
   "source": [
    "a = ['apple', 'orange', 'lemon']\n",
    "\n",
    "print (' + '.join(a))"
   ]
  },
  {
   "cell_type": "code",
   "execution_count": 64,
   "metadata": {},
   "outputs": [
    {
     "name": "stdout",
     "output_type": "stream",
     "text": [
      "Python is a Progamming language.\n"
     ]
    }
   ],
   "source": [
    "b = ['Python', 'is', 'a', 'Progamming language.']\n",
    "\n",
    "print (' '.join(b))"
   ]
  },
  {
   "cell_type": "code",
   "execution_count": 65,
   "metadata": {},
   "outputs": [
    {
     "name": "stdout",
     "output_type": "stream",
     "text": [
      "I like apple, orange, waterlemon and lemon.\n"
     ]
    }
   ],
   "source": [
    "a = ['I', 'like', 'apple,', 'orange,', 'waterlemon', 'and', 'lemon.']\n",
    "print (' '.join(a))"
   ]
  },
  {
   "cell_type": "markdown",
   "metadata": {},
   "source": [
    "### s.replace('sub', 'new', count)"
   ]
  },
  {
   "cell_type": "code",
   "execution_count": 66,
   "metadata": {},
   "outputs": [
    {
     "name": "stdout",
     "output_type": "stream",
     "text": [
      "Java is a Progamming language.\n",
      "C# is a Progamming language.\n",
      "C++ is a Progamming language.\n"
     ]
    }
   ],
   "source": [
    "a = 'Python is a Progamming language.'\n",
    "\n",
    "print (a.replace('Python', 'Java'))\n",
    "print (a.replace('Python', 'C#'))\n",
    "print (a.replace('Python', 'C++'))"
   ]
  },
  {
   "cell_type": "code",
   "execution_count": 67,
   "metadata": {},
   "outputs": [
    {
     "name": "stdout",
     "output_type": "stream",
     "text": [
      "Java is a Progamming language and I like Java, do you like Java?\n",
      "C# is a Progamming language and I like Python, do you like Python?\n",
      "C++ is a Progamming language and I like C++, do you like Python?\n"
     ]
    }
   ],
   "source": [
    "a = 'Python is a Progamming language and I like Python, do you like Python?'\n",
    "\n",
    "print (a.replace('Python', 'Java'))\n",
    "print (a.replace('Python', 'C#', 1))\n",
    "print (a.replace('Python', 'C++', 2))"
   ]
  },
  {
   "cell_type": "markdown",
   "metadata": {},
   "source": [
    "### s.splitlines()\n",
    "_ Split lines and returns a list"
   ]
  },
  {
   "cell_type": "code",
   "execution_count": 68,
   "metadata": {},
   "outputs": [
    {
     "name": "stdout",
     "output_type": "stream",
     "text": [
      "Python is a Progamming language, \n",
      "I like Python, \n",
      "do you like Python?\n",
      "\n",
      "\n",
      "['Python is a Progamming language, ', 'I like Python, ', 'do you like Python?']\n"
     ]
    }
   ],
   "source": [
    "text = '''Python is a Progamming language, \n",
    "I like Python, \n",
    "do you like Python?\n",
    "'''\n",
    "print (text)\n",
    "print ()\n",
    "print (text.splitlines())"
   ]
  },
  {
   "cell_type": "markdown",
   "metadata": {},
   "source": [
    "### s.center(len, fillchar)"
   ]
  },
  {
   "cell_type": "code",
   "execution_count": 69,
   "metadata": {},
   "outputs": [
    {
     "name": "stdout",
     "output_type": "stream",
     "text": [
      "Help on method_descriptor:\n",
      "\n",
      "center(self, width, fillchar=' ', /)\n",
      "    Return a centered string of length width.\n",
      "    \n",
      "    Padding is done using the specified fill character (default is a space).\n",
      "\n"
     ]
    }
   ],
   "source": [
    "help(str.center)"
   ]
  },
  {
   "cell_type": "code",
   "execution_count": 70,
   "metadata": {},
   "outputs": [
    {
     "name": "stdout",
     "output_type": "stream",
     "text": [
      "*****Python*****\n"
     ]
    }
   ],
   "source": [
    "a = 'Python'\n",
    "print (a.center(16, '*'))"
   ]
  },
  {
   "cell_type": "code",
   "execution_count": 71,
   "metadata": {
    "scrolled": true
   },
   "outputs": [
    {
     "data": {
      "text/plain": [
       "'     Python     '"
      ]
     },
     "execution_count": 71,
     "metadata": {},
     "output_type": "execute_result"
    }
   ],
   "source": [
    "a = 'Python'\n",
    "a.center(16, ' ')"
   ]
  },
  {
   "cell_type": "markdown",
   "metadata": {},
   "source": [
    "### s.ljust(len, fillchar)"
   ]
  },
  {
   "cell_type": "code",
   "execution_count": 72,
   "metadata": {},
   "outputs": [
    {
     "data": {
      "text/plain": [
       "'Python******'"
      ]
     },
     "execution_count": 72,
     "metadata": {},
     "output_type": "execute_result"
    }
   ],
   "source": [
    "a = 'Python'\n",
    "a.ljust(12, '*')"
   ]
  },
  {
   "cell_type": "markdown",
   "metadata": {},
   "source": [
    "### s.rjust(len, fillchar)"
   ]
  },
  {
   "cell_type": "code",
   "execution_count": 73,
   "metadata": {
    "scrolled": true
   },
   "outputs": [
    {
     "data": {
      "text/plain": [
       "'******Python'"
      ]
     },
     "execution_count": 73,
     "metadata": {},
     "output_type": "execute_result"
    }
   ],
   "source": [
    "a = 'Python'\n",
    "a.rjust(12, '*')"
   ]
  },
  {
   "cell_type": "code",
   "execution_count": null,
   "metadata": {},
   "outputs": [],
   "source": []
  },
  {
   "cell_type": "markdown",
   "metadata": {},
   "source": [
    "### s.strip()\n",
    "_ Trim white spaces from both sides"
   ]
  },
  {
   "cell_type": "code",
   "execution_count": 74,
   "metadata": {
    "scrolled": true
   },
   "outputs": [
    {
     "data": {
      "text/plain": [
       "'Python'"
      ]
     },
     "execution_count": 74,
     "metadata": {},
     "output_type": "execute_result"
    }
   ],
   "source": [
    "a = '   Python    '\n",
    "a.strip()"
   ]
  },
  {
   "cell_type": "code",
   "execution_count": 75,
   "metadata": {},
   "outputs": [
    {
     "data": {
      "text/plain": [
       "'Python  language'"
      ]
     },
     "execution_count": 75,
     "metadata": {},
     "output_type": "execute_result"
    }
   ],
   "source": [
    "a = '   Python  language   '\n",
    "a.strip()"
   ]
  },
  {
   "cell_type": "markdown",
   "metadata": {},
   "source": [
    "### s.lstrip()\n",
    "_ Trim white spaces from left side"
   ]
  },
  {
   "cell_type": "code",
   "execution_count": 76,
   "metadata": {},
   "outputs": [
    {
     "data": {
      "text/plain": [
       "'Python    '"
      ]
     },
     "execution_count": 76,
     "metadata": {},
     "output_type": "execute_result"
    }
   ],
   "source": [
    "a = '   Python    '\n",
    "a.lstrip()"
   ]
  },
  {
   "cell_type": "markdown",
   "metadata": {},
   "source": [
    "### s.rstrip()\n",
    "_ Trim white spaces from right side"
   ]
  },
  {
   "cell_type": "code",
   "execution_count": 77,
   "metadata": {},
   "outputs": [
    {
     "data": {
      "text/plain": [
       "'   Python'"
      ]
     },
     "execution_count": 77,
     "metadata": {},
     "output_type": "execute_result"
    }
   ],
   "source": [
    "a = '   Python    '\n",
    "a.rstrip()"
   ]
  },
  {
   "cell_type": "markdown",
   "metadata": {},
   "source": [
    "### 3.3 _ String Method _ Varify\n",
    "s.ismethod()"
   ]
  },
  {
   "cell_type": "markdown",
   "metadata": {},
   "source": [
    "### s.isalnum( )\n",
    "_ Returns True if all characters of the string are alphanumeric\n",
    "\n",
    "_ (Alphabet) or (Number) or (Alphabet and Number)\n",
    "\n",
    "_ No other symbles"
   ]
  },
  {
   "cell_type": "code",
   "execution_count": 78,
   "metadata": {},
   "outputs": [
    {
     "name": "stdout",
     "output_type": "stream",
     "text": [
      "True\n",
      "True\n",
      "True\n",
      "False\n",
      "False\n"
     ]
    }
   ],
   "source": [
    "a = 'Python'\n",
    "b = '3569'\n",
    "c = 'Python3'\n",
    "d = 'Python 3'\n",
    "e = 'Python3.8'\n",
    "\n",
    "print (a.isalnum())\n",
    "print (b.isalnum())\n",
    "print (c.isalnum())\n",
    "print (d.isalnum())\n",
    "print (e.isalnum())"
   ]
  },
  {
   "cell_type": "markdown",
   "metadata": {},
   "source": [
    "### s.isalpha( )\n",
    "_ Returns True if all characters of the string are alphabet"
   ]
  },
  {
   "cell_type": "code",
   "execution_count": 79,
   "metadata": {},
   "outputs": [
    {
     "name": "stdout",
     "output_type": "stream",
     "text": [
      "True\n",
      "False\n",
      "False\n",
      "False\n",
      "False\n"
     ]
    }
   ],
   "source": [
    "a = 'Python'\n",
    "b = '3569'\n",
    "c = 'Python3'\n",
    "d = 'Python 3'\n",
    "e = 'Python3.8'\n",
    "\n",
    "print (a.isalpha())\n",
    "print (b.isalpha())\n",
    "print (c.isalpha())\n",
    "print (d.isalpha())\n",
    "print (e.isalpha())"
   ]
  },
  {
   "cell_type": "markdown",
   "metadata": {},
   "source": [
    "### s.isdecimal( )\n",
    "_ Returns True if all characters of the string are decimals"
   ]
  },
  {
   "cell_type": "code",
   "execution_count": 80,
   "metadata": {},
   "outputs": [
    {
     "name": "stdout",
     "output_type": "stream",
     "text": [
      "False\n",
      "True\n",
      "False\n",
      "False\n",
      "False\n"
     ]
    }
   ],
   "source": [
    "a = 'Python'\n",
    "b = '3569'\n",
    "c = '35.5'\n",
    "d = 'Python 3'\n",
    "e = 'Python3.8'\n",
    "\n",
    "print (a.isdecimal())\n",
    "print (b.isdecimal())\n",
    "print (c.isdecimal())\n",
    "print (d.isdecimal())\n",
    "print (e.isdecimal())"
   ]
  },
  {
   "cell_type": "markdown",
   "metadata": {},
   "source": [
    "### s.isdigit( )\n",
    "_ Returns True if all characters of the string are digits"
   ]
  },
  {
   "cell_type": "code",
   "execution_count": 81,
   "metadata": {},
   "outputs": [
    {
     "name": "stdout",
     "output_type": "stream",
     "text": [
      "False\n",
      "True\n",
      "False\n",
      "False\n",
      "False\n"
     ]
    }
   ],
   "source": [
    "a = 'Python'\n",
    "b = '3569'\n",
    "c = '35.5'\n",
    "d = '25%'\n",
    "e = 'Python3.8'\n",
    "\n",
    "print (a.isdigit())\n",
    "print (b.isdigit())\n",
    "print (c.isdigit())\n",
    "print (d.isdigit())\n",
    "print (e.isdigit())"
   ]
  },
  {
   "cell_type": "markdown",
   "metadata": {},
   "source": [
    "### s.isnumeric( )\n",
    "_ Returns True if all characters of the string are nummeric"
   ]
  },
  {
   "cell_type": "code",
   "execution_count": 82,
   "metadata": {},
   "outputs": [
    {
     "name": "stdout",
     "output_type": "stream",
     "text": [
      "False\n",
      "True\n",
      "False\n",
      "False\n",
      "False\n"
     ]
    }
   ],
   "source": [
    "a = 'Python'\n",
    "b = '3569'\n",
    "c = '35.5'\n",
    "d = '25%'\n",
    "e = 'Python3.8'\n",
    "\n",
    "print (a.isnumeric())\n",
    "print (b.isnumeric())\n",
    "print (c.isnumeric())\n",
    "print (d.isnumeric())\n",
    "print (e.isnumeric())"
   ]
  },
  {
   "cell_type": "markdown",
   "metadata": {},
   "source": [
    "### s.isspace( )\n",
    "_ Returns True if the string are whitespaces"
   ]
  },
  {
   "cell_type": "code",
   "execution_count": 83,
   "metadata": {},
   "outputs": [
    {
     "name": "stdout",
     "output_type": "stream",
     "text": [
      "False\n",
      "False\n",
      "True\n"
     ]
    }
   ],
   "source": [
    "a = 'Python3'\n",
    "b = 'Python 3'\n",
    "c = '  '\n",
    "print (a.isspace())\n",
    "print (b.isspace())\n",
    "print (c.isspace())"
   ]
  },
  {
   "cell_type": "markdown",
   "metadata": {},
   "source": [
    "### s.islower( )"
   ]
  },
  {
   "cell_type": "code",
   "execution_count": 84,
   "metadata": {},
   "outputs": [
    {
     "name": "stdout",
     "output_type": "stream",
     "text": [
      "True\n",
      "False\n",
      "False\n"
     ]
    }
   ],
   "source": [
    "a = 'python'\n",
    "b = 'Python'\n",
    "c = 'PYTHON'\n",
    "\n",
    "print (a.islower())\n",
    "print (b.islower())\n",
    "print (c.islower())"
   ]
  },
  {
   "cell_type": "markdown",
   "metadata": {},
   "source": [
    "### s.isupper( )"
   ]
  },
  {
   "cell_type": "code",
   "execution_count": 85,
   "metadata": {},
   "outputs": [
    {
     "name": "stdout",
     "output_type": "stream",
     "text": [
      "False\n",
      "False\n",
      "True\n"
     ]
    }
   ],
   "source": [
    "a = 'python'\n",
    "b = 'Python'\n",
    "c = 'PYTHON'\n",
    "\n",
    "print (a.isupper())\n",
    "print (b.isupper())\n",
    "print (c.isupper())"
   ]
  },
  {
   "cell_type": "markdown",
   "metadata": {},
   "source": [
    "### s.istitle( )"
   ]
  },
  {
   "cell_type": "code",
   "execution_count": 86,
   "metadata": {},
   "outputs": [
    {
     "name": "stdout",
     "output_type": "stream",
     "text": [
      "False\n",
      "True\n",
      "False\n"
     ]
    }
   ],
   "source": [
    "a = 'Python programming language'\n",
    "b = 'Python Programming Language'\n",
    "c = 'PYTHON PROGAMMING LANGUAGE'\n",
    "\n",
    "print (a.istitle())\n",
    "print (b.istitle())\n",
    "print (c.istitle())"
   ]
  }
 ],
 "metadata": {
  "kernelspec": {
   "display_name": "Python 3",
   "language": "python",
   "name": "python3"
  },
  "language_info": {
   "codemirror_mode": {
    "name": "ipython",
    "version": 3
   },
   "file_extension": ".py",
   "mimetype": "text/x-python",
   "name": "python",
   "nbconvert_exporter": "python",
   "pygments_lexer": "ipython3",
   "version": "3.7.4"
  }
 },
 "nbformat": 4,
 "nbformat_minor": 2
}
