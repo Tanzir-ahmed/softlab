{
 "cells": [
  {
   "cell_type": "markdown",
   "metadata": {},
   "source": [
    "### ARCH 942  |  Algorithmic Thinking in Design \n",
    "\n",
    "Session 2020 | Credit: 1.5  |  Optional Sessional Course\n",
    "\n",
    "Department of Architectrue | BUET"
   ]
  },
  {
   "cell_type": "markdown",
   "metadata": {},
   "source": [
    "# List"
   ]
  },
  {
   "cell_type": "markdown",
   "metadata": {},
   "source": [
    "##### List cheat sheet\n",
    "L = [] ............ Empty List\n",
    "\n",
    "L = [0, 1, 2, 3]   ............ L is a list\n",
    "\n",
    "L = ['abc', ['def', 'ghi']] ............ L is a list\n",
    "\n",
    "L = list((Aple' 'Orange')) ............ L is a list\n",
    "\n",
    "L = list(range(-4, 4))  ............ L is a list\n",
    "\n",
    "L[i]  ............ Get item from a List / Indexing\n",
    "\n",
    "L[i][j] ............ Get item from a nested list / Indexing\n",
    "\n",
    "L[i:j]  ............ Get items from a List / Slicing\n",
    "\n",
    "len(L) ............ List length\n",
    "\n",
    "L3 = L1 + L2 ............ List Concatenation\n",
    "\n",
    "L1 = L * 3 ............ List multiplication\n",
    "\n",
    "for i in L: print(i) ............  excess items through for loop\n",
    "\n",
    "3 in L ............ List membership checking\n",
    "\n",
    "L.append(4)  ............ Add a new item to a list in the last position\n",
    "\n",
    "L.extend([5,6,7]) ............ Add the list with a new list\n",
    "\n",
    "L.insert(i, X) ............ insert a new item in a specific position\n",
    "\n",
    "L.index(1) \n",
    "\n",
    "L.count(X) ............ count an item in a list (how many same items are there)\n",
    "\n",
    "L.sort() ............ sort list in an ascending or descending order\n",
    "\n",
    "L.reverse()  ............ Reverse list order\n",
    "\n",
    "del L[k] ............ delete item / global function\n",
    "\n",
    "del L[i:j] ............ delete items / global function\n",
    "\n",
    "L.pop() ............ delete last item\n",
    "\n",
    "L.remove(2) ............ remove item with index number\n",
    "\n",
    "L[i:j] = [] L[i] = 1 \n",
    "\n",
    "L[i:j] = [4,5,6] L = [x**2 for x in range(5)]  ............ List Comprehention\n",
    "\n",
    "list(map(ord, 'spam')) \n",
    "\n",
    "zip() function\n",
    "\n",
    "enumerate() function"
   ]
  },
  {
   "cell_type": "markdown",
   "metadata": {},
   "source": [
    "### [1] LIST _ BASIC\n",
    "a_list = [1, 2 , 3, 4., 5]\n",
    "\n",
    "A List [ ] is a sequence of items and it is mutable.\n",
    "\n",
    "A list [ ] is a data structure that holds an ordered collection of items. Lists can contain any type of  data, including integers, strings, and even other lists. \n",
    "\n",
    " A list [ ] is another type of sequence, which is similar to a tuple except that its elements can be  modified. The length of the list can be modified to accommodate elements being added using the  append method, and the length can be reduced by using the pop method. If you have a sequence  whose data you want to append to a list, you can append it all at once with the extend method of a  list. "
   ]
  },
  {
   "cell_type": "markdown",
   "metadata": {},
   "source": [
    "### 1.1 _ type(list)\n",
    "_ Check data type"
   ]
  },
  {
   "cell_type": "code",
   "execution_count": null,
   "metadata": {
    "scrolled": true
   },
   "outputs": [],
   "source": [
    "# list of Numbers\n",
    "a = [ 5, 4.6, 7.5, 3] \n",
    "\n",
    "print (a)\n",
    "print(type(a))"
   ]
  },
  {
   "cell_type": "code",
   "execution_count": null,
   "metadata": {},
   "outputs": [],
   "source": [
    "# list of Strings\n",
    "b = ['Apple', 'orange', 'Lemon']\n",
    "\n",
    "print (b)\n",
    "print(type(a))"
   ]
  },
  {
   "cell_type": "code",
   "execution_count": null,
   "metadata": {},
   "outputs": [],
   "source": [
    "# list can contain both Number and String, but not preferable. \n",
    "c = [5, 4, 'Apple', 'orange', 7.5, 0.3]\n",
    "\n",
    "print (c)\n",
    "print(type(c))"
   ]
  },
  {
   "cell_type": "code",
   "execution_count": null,
   "metadata": {},
   "outputs": [],
   "source": [
    "# Nested list\n",
    "d = [[1, 2, 3], [4, 5, 6],[7, 8, 9, 10, 11]]\n",
    "\n",
    "print (d)\n",
    "print(type(d))"
   ]
  },
  {
   "cell_type": "code",
   "execution_count": null,
   "metadata": {},
   "outputs": [],
   "source": [
    "# empty list\n",
    "e = []\n",
    "\n",
    "print (e)\n",
    "print(type(e))"
   ]
  },
  {
   "cell_type": "markdown",
   "metadata": {},
   "source": [
    "### 1.2 _ len(list)\n",
    "_ Find the length of a List\n",
    "\n",
    "_ How many items are in a list, it will return an integer number"
   ]
  },
  {
   "cell_type": "code",
   "execution_count": null,
   "metadata": {
    "scrolled": true
   },
   "outputs": [],
   "source": [
    "a = [ 5, 4.6, 7.5, 3] \n",
    "b = ['Apple', 'orange', 'Lemon']\n",
    "c = [5, 4, 'Apple', 'orange', 7.5, 0.3]\n",
    "\n",
    "print(len(a))\n",
    "print(len(b))\n",
    "print(len(c))\n",
    "\n",
    "print()\n",
    "\n",
    "print('There are', len(a), 'items in the list, \"a\"')\n",
    "print('There are', len(b), 'items in the list, \"b\"')\n",
    "print('There are', len(c), 'items in the list, \"c\"')"
   ]
  },
  {
   "cell_type": "code",
   "execution_count": null,
   "metadata": {},
   "outputs": [],
   "source": [
    "shoplist = [ 'apple', 'mango', 'carrot', 'banana' ] \n",
    "print ( 'I have', len(shoplist), 'items to purchase.' ) "
   ]
  },
  {
   "cell_type": "code",
   "execution_count": null,
   "metadata": {},
   "outputs": [],
   "source": [
    "shoplist = [ 'apple', 'mango', 'carrot', 'banana' ] \n",
    "shoplist_len = len(shoplist)\n",
    "\n",
    "print ( f'I have {shoplist_len} items to purchase.' ) "
   ]
  },
  {
   "cell_type": "markdown",
   "metadata": {},
   "source": [
    "### 1.3 _ ' in ' function\n",
    "_ Membership\n",
    "\n",
    "_ Check item if available in the list, it will return a boolean value (True / False)"
   ]
  },
  {
   "cell_type": "code",
   "execution_count": null,
   "metadata": {},
   "outputs": [],
   "source": [
    "a = [ 5, 4.6, 7.5, 3] \n",
    "b = ['Apple', 'orange', 'Lemon']\n",
    "\n",
    "print ('1.', 5 in a)\n",
    "print ('2.','Apple' in b)\n",
    "print ('3.','apple' in b)\n",
    "print ('4.','Waterlemon' in b)"
   ]
  },
  {
   "cell_type": "markdown",
   "metadata": {},
   "source": [
    "### 1.4 _ List Concatenation +"
   ]
  },
  {
   "cell_type": "code",
   "execution_count": null,
   "metadata": {},
   "outputs": [],
   "source": [
    "list_1 = [1, 2, 3]\n",
    "list_2 = [4, 5, 6]\n",
    "\n",
    "list_new1 = list_1 + list_2\n",
    "list_new2 = list_2 + list_1\n",
    "list_new3 = list_1 + list_2 + list_1\n",
    "\n",
    "print (list_new1)\n",
    "print (list_new2)\n",
    "print (list_new3)"
   ]
  },
  {
   "cell_type": "markdown",
   "metadata": {},
   "source": [
    "### 1.5 _ Create a List from strings\n",
    "s.split(char)\n",
    "\n",
    "list(str)"
   ]
  },
  {
   "cell_type": "code",
   "execution_count": null,
   "metadata": {
    "scrolled": false
   },
   "outputs": [],
   "source": [
    "vegetables = \"carrots, potatoes, onions, leeks, celery\" \n",
    "print (vegetables)\n",
    "print (type(vegetables))\n",
    "\n",
    "print ()\n",
    "\n",
    "veg_list1 = vegetables.split(',')\n",
    "veg_list2 = vegetables.split()\n",
    "\n",
    "print (veg_list1)\n",
    "print (veg_list2)\n",
    "print (type(veg_list1))"
   ]
  },
  {
   "cell_type": "code",
   "execution_count": null,
   "metadata": {
    "scrolled": true
   },
   "outputs": [],
   "source": [
    "veg = 'carrots'\n",
    "print (veg)\n",
    "print (type(veg))\n",
    "\n",
    "print ()\n",
    "\n",
    "veg_list = list(veg) \n",
    "print (veg_list)\n",
    "print (type(veg_list))"
   ]
  },
  {
   "cell_type": "markdown",
   "metadata": {},
   "source": [
    "### 1.6 _ Create a List from a Range function"
   ]
  },
  {
   "cell_type": "code",
   "execution_count": null,
   "metadata": {},
   "outputs": [],
   "source": [
    "x = range(10)\n",
    "\n",
    "print (x)\n",
    "print (type(x))\n",
    "print ()\n",
    "\n",
    "x_list = list(x)\n",
    "\n",
    "print (x_list)\n",
    "print (list(range(5)))\n",
    "print (type(x_list))"
   ]
  },
  {
   "cell_type": "code",
   "execution_count": null,
   "metadata": {},
   "outputs": [],
   "source": [
    "x = range(2,50,5)\n",
    "print (x)\n",
    "print (list(x))"
   ]
  },
  {
   "cell_type": "markdown",
   "metadata": {},
   "source": [
    "### 1.7 _ List Repetation\n",
    "[ ] * n"
   ]
  },
  {
   "cell_type": "code",
   "execution_count": null,
   "metadata": {},
   "outputs": [],
   "source": [
    "a = [42]\n",
    "print (a*10)"
   ]
  },
  {
   "cell_type": "code",
   "execution_count": null,
   "metadata": {},
   "outputs": [],
   "source": [
    "n = 5\n",
    "print ('n = ',n)\n",
    "print (type(n))\n",
    "\n",
    "print ()\n",
    "n_list = [n]\n",
    "print ('n_list = ', n_list)\n",
    "print (type(n_list))\n",
    "\n",
    "print ()\n",
    "print (n_list*10)"
   ]
  },
  {
   "cell_type": "markdown",
   "metadata": {},
   "source": [
    "### [2] LIST _ INDEX / SLICE\n",
    "list [ i ]\n",
    "\n",
    "list [ start : end : step ]"
   ]
  },
  {
   "cell_type": "code",
   "execution_count": null,
   "metadata": {},
   "outputs": [],
   "source": [
    "num = [ 5, 4, 7, 3, 2, 3, 2, 6, 4, 2, 1, 7, 1, 3 ]\n",
    "\n",
    "print (num)\n",
    "print (num[:])\n",
    "print (num[::])\n",
    "print ()\n",
    "print ('List length of \"num\" is', len(num))\n",
    "print ()\n",
    "print (['   5,   4,   7,   3,   2,   3,   2,   6,   4,   2,    1,   7,   1,    3 '])\n",
    "print ('     0    1    2    3    4    5    6    7    8    9    10   11   12    13 ')\n",
    "print ('   -14   -13 -12  -11  -10   -9   -8   -7   -6   -5    -4   -3   -2    -1 ')\n",
    "print ()\n",
    "\n",
    "# Index\n",
    "print ('num[2] is : ', num [2])\n",
    "print ('num[-1] is : ', num [-1])\n",
    "print ()\n",
    "# Slice\n",
    "print ('num[2:12] is : ', num [2:12])\n",
    "print ('num[2:12:2] is : ', num [2:12:2])\n",
    "print ()\n",
    "print ('num[5:] is : ', num [5:])\n",
    "print ('num[::3] is : ', num [::3])\n",
    "print ()\n",
    "print ('num[::-1] is : ', num [::-1])\n",
    "print ('num[-12:-2:2] is : ', num [-12:-2:2])\n",
    "print ('num[12:2:-2] is : ', num [12:2:-2])"
   ]
  },
  {
   "cell_type": "code",
   "execution_count": null,
   "metadata": {},
   "outputs": [],
   "source": [
    "# Nested List\n",
    "d = [[1, 2, 3], [4, 5, 6],[7, 8, 9, 10, 11, 12]]\n",
    "\n",
    "print ('[[  1,  2,  3 ], [  4,  5,  6 ],[  7,  8,  9 ,  10,  11,  12  ]]')\n",
    "print ('    ....0....       ....1....      ..............2...........   ')\n",
    "print ('    0   1   2       0   1   2      0   1   2     3    4    5    ')\n",
    "print ()\n",
    "print ('d[0] is : ', d[0])\n",
    "print ('d[1] is : ',d[1])\n",
    "print()\n",
    "print ('d[0][0] is : ', d[0][0])\n",
    "print ('d[0][2] is : ', d[0][2])\n",
    "print()\n",
    "print ('d[2][0 is : ' , d[2][0])\n",
    "print ('d[2][4] is : ', d[2][4])"
   ]
  },
  {
   "cell_type": "markdown",
   "metadata": {},
   "source": [
    "### Replace with a new item by index\n",
    "list[i]  = 'item'"
   ]
  },
  {
   "cell_type": "code",
   "execution_count": null,
   "metadata": {
    "scrolled": true
   },
   "outputs": [],
   "source": [
    "fruits = ['Apple', 'Orange', 'Lemon', 'Mango']\n",
    "\n",
    "fruits [0] = 'Banana'\n",
    "print (fruits)"
   ]
  },
  {
   "cell_type": "code",
   "execution_count": null,
   "metadata": {
    "scrolled": true
   },
   "outputs": [],
   "source": [
    "fruits = ['Apple', 'Orange', 'Lemon', 'Mango']\n",
    "\n",
    "print (fruits)\n",
    "fruits [0:2] = ['Banana']\n",
    "print (fruits)"
   ]
  },
  {
   "cell_type": "code",
   "execution_count": null,
   "metadata": {
    "scrolled": true
   },
   "outputs": [],
   "source": [
    "fruits = ['Apple', 'Orange', 'Lemon', 'Mango']\n",
    "\n",
    "print (fruits)\n",
    "fruits [0:3] = ['Banana', 'Jackfruit', 'Waterlemon']\n",
    "print (fruits)"
   ]
  },
  {
   "cell_type": "code",
   "execution_count": null,
   "metadata": {
    "scrolled": true
   },
   "outputs": [],
   "source": [
    "fruits = ['Apple', 'Orange', 'Lemon', 'Mango']\n",
    "\n",
    "print (fruits)\n",
    "fruits [0:1] = ['Banana', 'Jackfruit', 'Waterlemon']\n",
    "print (fruits)"
   ]
  },
  {
   "cell_type": "code",
   "execution_count": null,
   "metadata": {},
   "outputs": [],
   "source": [
    "fruits = ['Apple', 'Orange', 'Lemon', 'Mango']\n",
    "\n",
    "print (fruits)\n",
    "fruits [0] = ['Banana', 'Jackfruit', 'Waterlemon']\n",
    "print (fruits)"
   ]
  },
  {
   "cell_type": "markdown",
   "metadata": {},
   "source": [
    "### [3] LIST _ METHOD\n",
    "A method is a function that is tightly coupled to some object, be it a list, a number, a string, or whatever. In general, a method is called like this: \n",
    "\n",
    "object.method(arguments) \n",
    "+ list.method()"
   ]
  },
  {
   "cell_type": "markdown",
   "metadata": {},
   "source": [
    "### dir(list)\n",
    "_ Get the List Directory\n",
    "\n",
    "_ Available Methods in List"
   ]
  },
  {
   "cell_type": "code",
   "execution_count": null,
   "metadata": {},
   "outputs": [],
   "source": [
    "dir_str = dir(list)\n",
    "\n",
    "for i in dir_str:\n",
    "    print (i, end = ', ')"
   ]
  },
  {
   "cell_type": "markdown",
   "metadata": {},
   "source": [
    "### 3.1 _ List Method _ count / index"
   ]
  },
  {
   "cell_type": "markdown",
   "metadata": {},
   "source": [
    "### list.count ( value )"
   ]
  },
  {
   "cell_type": "code",
   "execution_count": null,
   "metadata": {},
   "outputs": [],
   "source": [
    "help(list.count)"
   ]
  },
  {
   "cell_type": "code",
   "execution_count": null,
   "metadata": {},
   "outputs": [],
   "source": [
    "num = [5, 4, 7, 3, 2, 3, 2, 6, 4, 2, 1, 7, 1, 3]\n",
    "\n",
    "print (num.count(2))"
   ]
  },
  {
   "cell_type": "code",
   "execution_count": null,
   "metadata": {},
   "outputs": [],
   "source": [
    "fruits = ['Apple', 'Orange', 'Lemon', 'Mango','Mango', 'Banana', 'Orange']\n",
    "\n",
    "print (fruits.count('Apple'))\n",
    "print (fruits.count('Orange'))\n",
    "print ( 'Number of \"Mango\" in the list :', fruits.count('Mango'))"
   ]
  },
  {
   "cell_type": "markdown",
   "metadata": {},
   "source": [
    "### list.index ( value, start, stop )"
   ]
  },
  {
   "cell_type": "code",
   "execution_count": null,
   "metadata": {},
   "outputs": [],
   "source": [
    "help(list.index)"
   ]
  },
  {
   "cell_type": "code",
   "execution_count": null,
   "metadata": {},
   "outputs": [],
   "source": [
    "fruits = ['Apple', 'Orange', 'Lemon','Mango', 'Banana', 'Lemon','Orange']\n",
    "\n",
    "print (fruits.index('Apple'))\n",
    "print (fruits.index('Orange'))\n",
    "print (fruits.index('Orange', 2))\n",
    "print ('Index of \"Mango\" is :', fruits.index('Mango'))"
   ]
  },
  {
   "cell_type": "code",
   "execution_count": null,
   "metadata": {},
   "outputs": [],
   "source": [
    "num = [5, 4, 7, 3, 2, 3, 2, 6, 4, 2, 1, 7, 1, 3]\n",
    "\n",
    "print (num.index(2))\n",
    "print (num.index(3, 5, 8))"
   ]
  },
  {
   "cell_type": "markdown",
   "metadata": {},
   "source": [
    "### list.copy()"
   ]
  },
  {
   "cell_type": "code",
   "execution_count": null,
   "metadata": {},
   "outputs": [],
   "source": [
    "help(list.copy)"
   ]
  },
  {
   "cell_type": "code",
   "execution_count": null,
   "metadata": {},
   "outputs": [],
   "source": [
    "fruits = ['Apple', 'Orange', 'Lemon']\n",
    "print (fruits)\n",
    "\n",
    "fruits_new = fruits.copy()\n",
    "print (fruits_new)\n",
    "\n",
    "fruits_new.append('Mango')\n",
    "print (fruits_new)"
   ]
  },
  {
   "cell_type": "markdown",
   "metadata": {},
   "source": [
    "### 3.1 _ List Method _ Create a list / Add items"
   ]
  },
  {
   "cell_type": "markdown",
   "metadata": {},
   "source": [
    "### list.append ( value )"
   ]
  },
  {
   "cell_type": "code",
   "execution_count": null,
   "metadata": {},
   "outputs": [],
   "source": [
    "num = [2,3,4,5]\n",
    "num.append(6)\n",
    "print (num)"
   ]
  },
  {
   "cell_type": "code",
   "execution_count": null,
   "metadata": {},
   "outputs": [],
   "source": [
    "fruits = ['Apple', 'Orange']\n",
    "\n",
    "fruits.append('Lemon')\n",
    "fruits.append('Water lemon')\n",
    "fruits.append('Mango')\n",
    "\n",
    "print (fruits)"
   ]
  },
  {
   "cell_type": "code",
   "execution_count": null,
   "metadata": {},
   "outputs": [],
   "source": [
    "fruits = []\n",
    "\n",
    "fruits.append('Lemon')\n",
    "fruits.append('Water lemon')\n",
    "fruits.append(['Mango', 'Banana'])\n",
    "\n",
    "print (fruits)"
   ]
  },
  {
   "cell_type": "code",
   "execution_count": null,
   "metadata": {},
   "outputs": [],
   "source": [
    "# Create sub-lists based on conditions with Append function\n",
    "\n",
    "x = [5, 4, 47, 3, 20, 3, 82,50, 6, 4, 32, 91, 7, 11, 39]\n",
    "\n",
    "x_a = []\n",
    "x_b = []\n",
    "x_c = []\n",
    "\n",
    "for i in x:\n",
    "    if i <=20:\n",
    "        x_a.append(i)\n",
    "    elif 20 < i and i <=50:\n",
    "        x_b.append(i)\n",
    "    elif i > 50:\n",
    "        x_c.append(i)\n",
    "        \n",
    "print (x_a)\n",
    "print (x_b)\n",
    "print (x_c)"
   ]
  },
  {
   "cell_type": "markdown",
   "metadata": {},
   "source": [
    "### list.extend( [ another list ] )"
   ]
  },
  {
   "cell_type": "code",
   "execution_count": null,
   "metadata": {},
   "outputs": [],
   "source": [
    "fruits = ['Apple', 'Orange']\n",
    "\n",
    "fruits.extend(['Lemon'])\n",
    "\n",
    "print (fruits)"
   ]
  },
  {
   "cell_type": "code",
   "execution_count": null,
   "metadata": {},
   "outputs": [],
   "source": [
    "fruits = ['Apple', 'Orange']\n",
    "\n",
    "fruits.extend(['Lemon', 'Mango', 'Banana'])\n",
    "\n",
    "print (fruits)"
   ]
  },
  {
   "cell_type": "markdown",
   "metadata": {},
   "source": [
    "### list.insert ( index, value )"
   ]
  },
  {
   "cell_type": "code",
   "execution_count": null,
   "metadata": {},
   "outputs": [],
   "source": [
    "fruits = ['Apple', 'Orange']\n",
    "\n",
    "fruits.insert(1,'Lemon')\n",
    "\n",
    "print (fruits)"
   ]
  },
  {
   "cell_type": "code",
   "execution_count": null,
   "metadata": {},
   "outputs": [],
   "source": [
    "fruits = ['Apple', 'Orange']\n",
    "\n",
    "fruits.insert(1, ['Lemon', 'Banana'])\n",
    "\n",
    "print (fruits)"
   ]
  },
  {
   "cell_type": "markdown",
   "metadata": {},
   "source": [
    "### 3.2 _ List Method _ Delete / Remove items"
   ]
  },
  {
   "cell_type": "markdown",
   "metadata": {},
   "source": [
    "### list.pop()"
   ]
  },
  {
   "cell_type": "code",
   "execution_count": null,
   "metadata": {},
   "outputs": [],
   "source": [
    "fruits = ['Apple', 'Orange', 'Lemon', 'Mango', 'Banana']\n",
    "\n",
    "fruits.pop()\n",
    "print (fruits)"
   ]
  },
  {
   "cell_type": "code",
   "execution_count": null,
   "metadata": {},
   "outputs": [],
   "source": [
    "fruits = ['Apple', 'Orange', 'Lemon', 'Mango', 'Banana']\n",
    "\n",
    "print (fruits)\n",
    "fruits.pop()\n",
    "print (fruits)\n",
    "fruits.pop()\n",
    "print (fruits)\n",
    "fruits.pop()\n",
    "\n",
    "print (fruits)"
   ]
  },
  {
   "cell_type": "markdown",
   "metadata": {},
   "source": [
    "### list.remove( value )"
   ]
  },
  {
   "cell_type": "code",
   "execution_count": null,
   "metadata": {},
   "outputs": [],
   "source": [
    "fruits = ['Apple', 'Orange', 'Lemon', 'Mango','Mango', 'Banana', 'Orange']\n",
    "\n",
    "fruits.remove('Orange')\n",
    "print (fruits)"
   ]
  },
  {
   "cell_type": "markdown",
   "metadata": {},
   "source": [
    "### list.clear()"
   ]
  },
  {
   "cell_type": "code",
   "execution_count": null,
   "metadata": {},
   "outputs": [],
   "source": [
    "fruits = ['Apple', 'Orange', 'Lemon', 'Mango','Mango', 'Banana', 'Orange']\n",
    "\n",
    "fruits.clear()\n",
    "print (fruits)"
   ]
  },
  {
   "cell_type": "markdown",
   "metadata": {},
   "source": [
    "### list.reverse()"
   ]
  },
  {
   "cell_type": "code",
   "execution_count": null,
   "metadata": {},
   "outputs": [],
   "source": [
    "num = [5, 4, 7, 3, 2, 3, 2, 6, 4, 2, 1, 7, 1, 3]\n",
    "num.reverse()\n",
    "print (num)"
   ]
  },
  {
   "cell_type": "code",
   "execution_count": null,
   "metadata": {},
   "outputs": [],
   "source": [
    "fruits = ['Apple', 'Orange', 'Lemon', 'Mango', 'Banana']\n",
    "\n",
    "fruits.reverse( )\n",
    "print (fruits)"
   ]
  },
  {
   "cell_type": "markdown",
   "metadata": {},
   "source": [
    "### list.sort ( key=None, reverse=False )"
   ]
  },
  {
   "cell_type": "code",
   "execution_count": null,
   "metadata": {
    "scrolled": true
   },
   "outputs": [],
   "source": [
    "help(list.sort)"
   ]
  },
  {
   "cell_type": "code",
   "execution_count": null,
   "metadata": {
    "scrolled": true
   },
   "outputs": [],
   "source": [
    "num = [5, 4, 7, 3, 2, 3, 2, 6, 4, 2, 1, 7, 1, 3]\n",
    "num.sort()\n",
    "print (num)"
   ]
  },
  {
   "cell_type": "code",
   "execution_count": null,
   "metadata": {},
   "outputs": [],
   "source": [
    "num = [5, 4, 7, 3, 2, 3, 2, 6, 4, 2, 1, 7, 1, 3]\n",
    "\n",
    "num.sort(reverse = True)\n",
    "print (num)"
   ]
  },
  {
   "cell_type": "code",
   "execution_count": null,
   "metadata": {},
   "outputs": [],
   "source": [
    "fruits = ['Apple', 'Orange', 'Lemon', 'Mango', 'Banana']\n",
    "\n",
    "fruits.sort( )\n",
    "print (fruits)"
   ]
  },
  {
   "cell_type": "code",
   "execution_count": null,
   "metadata": {},
   "outputs": [],
   "source": [
    "fruits = ['Apple', 'Orange', 'Lemon', 'Mango', 'Banana']\n",
    "\n",
    "fruits.sort(key = len)\n",
    "print (fruits)"
   ]
  },
  {
   "cell_type": "markdown",
   "metadata": {},
   "source": [
    "### [4] LIST _  PYTHON FUNCTION"
   ]
  },
  {
   "cell_type": "markdown",
   "metadata": {},
   "source": [
    "### del list [ index ]"
   ]
  },
  {
   "cell_type": "code",
   "execution_count": null,
   "metadata": {},
   "outputs": [],
   "source": [
    "fruits = ['Apple', 'Orange', 'Lemon', 'Mango', 'Banana']\n",
    "\n",
    "print (fruits)\n",
    "\n",
    "del fruits[0]\n",
    "print (fruits)"
   ]
  },
  {
   "cell_type": "code",
   "execution_count": null,
   "metadata": {},
   "outputs": [],
   "source": [
    "fruits = ['Apple', 'Orange', 'Lemon', 'Mango', 'Banana']\n",
    "\n",
    "print (fruits)\n",
    "\n",
    "del fruits[0]\n",
    "print (fruits)\n",
    "\n",
    "del fruits[2]\n",
    "print (fruits)"
   ]
  },
  {
   "cell_type": "code",
   "execution_count": null,
   "metadata": {},
   "outputs": [],
   "source": [
    "fruits = ['Apple', 'Orange', 'Lemon', 'Mango', 'Banana']\n",
    "\n",
    "print (fruits)\n",
    "print (fruits[1:3])\n",
    "\n",
    "del fruits[1:3]\n",
    "print (fruits)"
   ]
  },
  {
   "cell_type": "markdown",
   "metadata": {},
   "source": [
    "### sorted(list)\n",
    "sorted ( list, Key = , reverse = False )"
   ]
  },
  {
   "cell_type": "code",
   "execution_count": null,
   "metadata": {},
   "outputs": [],
   "source": [
    "num = [5, 4, 7, 3, 2, 3, 2, 6, 4, 2, 1, 7, 1, 3]\n",
    "num_new = sorted(num)\n",
    "\n",
    "print (num)\n",
    "print (num_new)"
   ]
  },
  {
   "cell_type": "code",
   "execution_count": null,
   "metadata": {},
   "outputs": [],
   "source": [
    "L = ['abc', 'ABD', 'aBe'] \n",
    "LL = sorted(L, key=str.lower, reverse = False)\n",
    "\n",
    "print (L)\n",
    "print (LL)"
   ]
  },
  {
   "cell_type": "markdown",
   "metadata": {},
   "source": [
    "### list (reversed( [ ] ) )"
   ]
  },
  {
   "cell_type": "code",
   "execution_count": null,
   "metadata": {},
   "outputs": [],
   "source": [
    "fruits = ['Apple', 'Orange', 'Lemon', 'Mango', 'Banana']\n",
    "\n",
    "fruits_new = reversed(fruits)\n",
    "\n",
    "print (fruits)\n",
    "print (list(fruits_new))"
   ]
  },
  {
   "cell_type": "markdown",
   "metadata": {},
   "source": [
    "### min(list) , max(list),  sum(list)"
   ]
  },
  {
   "cell_type": "code",
   "execution_count": null,
   "metadata": {
    "scrolled": true
   },
   "outputs": [],
   "source": [
    "num = [5, 4, 77, 3, 2, 33, 21, 6, 24, 12, 51, 17, 10, 13]\n",
    "print (num)\n",
    "print (min(num))\n",
    "print (max(num))\n",
    "print (sum(num))\n",
    "print ()\n",
    "print ('Minumum number of \"num\" is', min(num))\n",
    "print ('Maximum number of \"num\" is', max(num))\n",
    "print ('Total Sum of \"num\" is', sum(num))"
   ]
  },
  {
   "cell_type": "markdown",
   "metadata": {},
   "source": [
    "### for loop with a List"
   ]
  },
  {
   "cell_type": "markdown",
   "metadata": {},
   "source": [
    "for i in list:\n",
    "\n",
    "    print (i)"
   ]
  },
  {
   "cell_type": "code",
   "execution_count": null,
   "metadata": {},
   "outputs": [],
   "source": [
    "a = [2,5,6,4,5,89,5,84,45]\n",
    "\n",
    "for i in a:\n",
    "    print (i)"
   ]
  },
  {
   "cell_type": "code",
   "execution_count": null,
   "metadata": {},
   "outputs": [],
   "source": [
    "a = [2,5,6,4,5,89,5,84,45]\n",
    "\n",
    "for i in a:\n",
    "    print (i, end = ' ')"
   ]
  },
  {
   "cell_type": "code",
   "execution_count": null,
   "metadata": {},
   "outputs": [],
   "source": [
    "b = ['Apple', 'Orange', 'Lemon']\n",
    "\n",
    "for i in b:\n",
    "    print ('I want to eat', i)"
   ]
  },
  {
   "cell_type": "markdown",
   "metadata": {},
   "source": [
    "### List Comprehension"
   ]
  },
  {
   "cell_type": "code",
   "execution_count": null,
   "metadata": {},
   "outputs": [],
   "source": [
    "# iteration with for loop\n",
    "\n",
    "a = [2,5,6,4,5,89,5,84,45]\n",
    "\n",
    "for i in a:\n",
    "    print(i+10)"
   ]
  },
  {
   "cell_type": "code",
   "execution_count": null,
   "metadata": {},
   "outputs": [],
   "source": [
    "# Create a list after iteration and store values\n",
    "\n",
    "a = [2,5,6,4,5,89,5,84,45]\n",
    "\n",
    "a_new1 = []\n",
    "\n",
    "for i in a:\n",
    "    a_new1.append(i+10)\n",
    "    \n",
    "print(a_new1)"
   ]
  },
  {
   "cell_type": "code",
   "execution_count": null,
   "metadata": {
    "scrolled": true
   },
   "outputs": [],
   "source": [
    "# List Comprehention\n",
    "# Create a list and store values\n",
    "\n",
    "a = [2,5,6,4,5,89,5,84,45]\n",
    "a_new = [i+10 for i in a]\n",
    "b_new = [i*i for i in a ]\n",
    "\n",
    "print (a)\n",
    "print (a_new)\n",
    "print (b_new)"
   ]
  },
  {
   "cell_type": "code",
   "execution_count": null,
   "metadata": {},
   "outputs": [],
   "source": [
    "a = [2.65889, 5.25698, 6, 4.2]\n",
    "print (a)\n",
    "\n",
    "a_updated = [round(i,2) for i in a]\n",
    "print (a_updated)"
   ]
  },
  {
   "cell_type": "markdown",
   "metadata": {},
   "source": [
    "#### Find last name with list comprehension"
   ]
  },
  {
   "cell_type": "code",
   "execution_count": null,
   "metadata": {
    "scrolled": true
   },
   "outputs": [],
   "source": [
    "# sketch, step by step\n",
    "\n",
    "name = ['Alex Roman', 'Devid William James', 'Emma Isabella Olivia']\n",
    "print (name)\n",
    "\n",
    "print ()\n",
    "\n",
    "print(name[0])\n",
    "print (name[0].split(' '))\n",
    "print(name[0].split(' ')[-1])"
   ]
  },
  {
   "cell_type": "code",
   "execution_count": null,
   "metadata": {},
   "outputs": [],
   "source": [
    "# step by step using \"For loop\" for finding last name\n",
    "\n",
    "name = ['Alex Roman', 'Devid William James', 'Emma Isabella Olivia']\n",
    "\n",
    "for i in name:\n",
    "    print (i)\n",
    "\n",
    "print ()\n",
    "\n",
    "for i in name:\n",
    "    print (i.split( ' '))\n",
    "\n",
    "print ()\n",
    "for i in name:\n",
    "    print (i.split( ' ')[-1])"
   ]
  },
  {
   "cell_type": "code",
   "execution_count": null,
   "metadata": {},
   "outputs": [],
   "source": [
    "# list comprehension for finding last name\n",
    "\n",
    "name = ['Alex Roman', 'Devid William James', 'Emma Isabella Olivia']\n",
    "print ()\n",
    "last_name = [i.split()[-1] for i in name]\n",
    "print (last_name)"
   ]
  },
  {
   "cell_type": "code",
   "execution_count": null,
   "metadata": {
    "scrolled": true
   },
   "outputs": [],
   "source": [
    "# Text all by using last name\n",
    "\n",
    "for i in last_name:\n",
    "    print (f'Dear {i},')\n",
    "    print ('Hope you are doing well.')\n",
    "    print ('See you soon.')\n",
    "    print ('Take care !!!')\n",
    "    print ()"
   ]
  },
  {
   "cell_type": "code",
   "execution_count": null,
   "metadata": {},
   "outputs": [],
   "source": [
    "# Create sub-lists based on conditions with Append function and list Comprehension method\n",
    "\n",
    "x = [5, 4, 47, 3, 20, 73, 82,50, 6, 4, 32, 91, 7, 11, 39]\n",
    "print (x)\n",
    "print ()\n",
    "\n",
    "x_u = []\n",
    "[x_u.append(i) for i in x if i<=20]\n",
    "print ('value <=20 : ', x_n)\n",
    "\n",
    "x_v = []\n",
    "[x_v.append(i) for i in x if 20<i<=50]\n",
    "print ('20< value <=50 : ', x_m)\n",
    "\n",
    "x_w = []\n",
    "[x_w.append(i) for i in x if i>50]\n",
    "print ('Value > 50 : ', x_w)"
   ]
  },
  {
   "cell_type": "markdown",
   "metadata": {},
   "source": [
    "### enumerate funcrion\n",
    "Create index/es for each value\n",
    "\n",
    "enumerate ( list, start index = 0 )"
   ]
  },
  {
   "cell_type": "code",
   "execution_count": null,
   "metadata": {},
   "outputs": [],
   "source": [
    "grocery = ['bread', 'milk', 'butter']\n",
    "\n",
    "for i in enumerate(grocery):\n",
    "  print(i)\n",
    "\n",
    "print('\\n')\n",
    "for count, i in enumerate(grocery):\n",
    "  print(count, i)\n",
    "\n",
    "print('\\n')\n",
    "# changing default start value\n",
    "for count, i in enumerate(grocery, 100):\n",
    "  print(count, i)"
   ]
  },
  {
   "cell_type": "code",
   "execution_count": null,
   "metadata": {},
   "outputs": [],
   "source": [
    "a = [2,5,6,4,5,89,5,84,45]\n",
    "for i in enumerate(a):\n",
    "    print (i)"
   ]
  },
  {
   "cell_type": "code",
   "execution_count": null,
   "metadata": {},
   "outputs": [],
   "source": [
    "a = [2,5,6,4,5,89,5,84,45]\n",
    "for i, j in enumerate(a, 1):\n",
    "    print (i,' > ',j)"
   ]
  },
  {
   "cell_type": "code",
   "execution_count": null,
   "metadata": {
    "scrolled": true
   },
   "outputs": [],
   "source": [
    "a = [2,5,6,4,5,89,5,84,45]\n",
    "\n",
    "a_new = list(enumerate(a))\n",
    "b_new = list(enumerate(a,1))\n",
    "c_new = list(enumerate(a,11))\n",
    "\n",
    "print (a_new)\n",
    "print (b_new)\n",
    "print (c_new)"
   ]
  },
  {
   "cell_type": "code",
   "execution_count": null,
   "metadata": {
    "scrolled": true
   },
   "outputs": [],
   "source": [
    "my_list = ['apple', 'banana', 'grapes', 'pear']\n",
    "for index, value in enumerate(my_list, 1):\n",
    "    print(index, value)"
   ]
  },
  {
   "cell_type": "markdown",
   "metadata": {},
   "source": [
    "### Python zip() Function for Parallel Iteration\n",
    "Join seveal lists and return list of Tuple"
   ]
  },
  {
   "cell_type": "code",
   "execution_count": null,
   "metadata": {},
   "outputs": [],
   "source": [
    "a = [2,5,6,4,5,89,5,84,45]\n",
    "b = [1,2,3,4,5,6,7,8,9]\n",
    "c = [5,4,9,6,8,52,1,5,8]\n",
    "\n",
    "d = list(zip(a,b,c))\n",
    "\n",
    "print (d)"
   ]
  },
  {
   "cell_type": "code",
   "execution_count": null,
   "metadata": {},
   "outputs": [],
   "source": [
    "len(d)"
   ]
  }
 ],
 "metadata": {
  "kernelspec": {
   "display_name": "Python 3",
   "language": "python",
   "name": "python3"
  },
  "language_info": {
   "codemirror_mode": {
    "name": "ipython",
    "version": 3
   },
   "file_extension": ".py",
   "mimetype": "text/x-python",
   "name": "python",
   "nbconvert_exporter": "python",
   "pygments_lexer": "ipython3",
   "version": "3.7.4"
  }
 },
 "nbformat": 4,
 "nbformat_minor": 2
}
